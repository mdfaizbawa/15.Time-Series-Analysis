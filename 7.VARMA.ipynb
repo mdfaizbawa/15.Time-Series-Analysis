{
 "cells": [
  {
   "cell_type": "code",
   "execution_count": 1,
   "id": "c76a7b62-4f0c-439c-9f44-d137feefb50f",
   "metadata": {},
   "outputs": [
    {
     "name": "stdout",
     "output_type": "stream",
     "text": [
      "YF.download() has changed argument auto_adjust default to True\n"
     ]
    },
    {
     "name": "stderr",
     "output_type": "stream",
     "text": [
      "[*********************100%***********************]  1 of 1 completed\n"
     ]
    },
    {
     "data": {
      "text/html": [
       "<div>\n",
       "<style scoped>\n",
       "    .dataframe tbody tr th:only-of-type {\n",
       "        vertical-align: middle;\n",
       "    }\n",
       "\n",
       "    .dataframe tbody tr th {\n",
       "        vertical-align: top;\n",
       "    }\n",
       "\n",
       "    .dataframe thead th {\n",
       "        text-align: right;\n",
       "    }\n",
       "</style>\n",
       "<table border=\"1\" class=\"dataframe\">\n",
       "  <thead>\n",
       "    <tr style=\"text-align: right;\">\n",
       "      <th></th>\n",
       "      <th>Close</th>\n",
       "      <th>High</th>\n",
       "      <th>Low</th>\n",
       "      <th>Open</th>\n",
       "    </tr>\n",
       "    <tr>\n",
       "      <th>Date</th>\n",
       "      <th></th>\n",
       "      <th></th>\n",
       "      <th></th>\n",
       "      <th></th>\n",
       "    </tr>\n",
       "  </thead>\n",
       "  <tbody>\n",
       "    <tr>\n",
       "      <th>2021-07-01</th>\n",
       "      <td>3117.359619</td>\n",
       "      <td>3136.484525</td>\n",
       "      <td>3108.823472</td>\n",
       "      <td>3132.752836</td>\n",
       "    </tr>\n",
       "    <tr>\n",
       "      <th>2021-07-02</th>\n",
       "      <td>3102.385986</td>\n",
       "      <td>3115.680127</td>\n",
       "      <td>3074.165091</td>\n",
       "      <td>3107.563750</td>\n",
       "    </tr>\n",
       "    <tr>\n",
       "      <th>2021-07-05</th>\n",
       "      <td>3098.234131</td>\n",
       "      <td>3147.679000</td>\n",
       "      <td>3080.508612</td>\n",
       "      <td>3117.825494</td>\n",
       "    </tr>\n",
       "    <tr>\n",
       "      <th>2021-07-06</th>\n",
       "      <td>3043.472412</td>\n",
       "      <td>3104.765361</td>\n",
       "      <td>3037.688340</td>\n",
       "      <td>3090.771526</td>\n",
       "    </tr>\n",
       "    <tr>\n",
       "      <th>2021-07-07</th>\n",
       "      <td>3055.273193</td>\n",
       "      <td>3062.503340</td>\n",
       "      <td>3024.160378</td>\n",
       "      <td>3055.319885</td>\n",
       "    </tr>\n",
       "    <tr>\n",
       "      <th>...</th>\n",
       "      <td>...</td>\n",
       "      <td>...</td>\n",
       "      <td>...</td>\n",
       "      <td>...</td>\n",
       "    </tr>\n",
       "    <tr>\n",
       "      <th>2022-01-20</th>\n",
       "      <td>3590.827637</td>\n",
       "      <td>3678.520902</td>\n",
       "      <td>3576.235499</td>\n",
       "      <td>3669.136920</td>\n",
       "    </tr>\n",
       "    <tr>\n",
       "      <th>2022-01-21</th>\n",
       "      <td>3597.349365</td>\n",
       "      <td>3614.287498</td>\n",
       "      <td>3538.793411</td>\n",
       "      <td>3572.481814</td>\n",
       "    </tr>\n",
       "    <tr>\n",
       "      <th>2022-01-24</th>\n",
       "      <td>3539.028564</td>\n",
       "      <td>3612.504969</td>\n",
       "      <td>3509.703617</td>\n",
       "      <td>3603.449517</td>\n",
       "    </tr>\n",
       "    <tr>\n",
       "      <th>2022-01-25</th>\n",
       "      <td>3537.666992</td>\n",
       "      <td>3574.733718</td>\n",
       "      <td>3492.905448</td>\n",
       "      <td>3537.291725</td>\n",
       "    </tr>\n",
       "    <tr>\n",
       "      <th>2022-01-27</th>\n",
       "      <td>3424.449951</td>\n",
       "      <td>3503.416075</td>\n",
       "      <td>3401.787724</td>\n",
       "      <td>3501.164011</td>\n",
       "    </tr>\n",
       "  </tbody>\n",
       "</table>\n",
       "<p>144 rows × 4 columns</p>\n",
       "</div>"
      ],
      "text/plain": [
       "                  Close         High          Low         Open\n",
       "Date                                                          \n",
       "2021-07-01  3117.359619  3136.484525  3108.823472  3132.752836\n",
       "2021-07-02  3102.385986  3115.680127  3074.165091  3107.563750\n",
       "2021-07-05  3098.234131  3147.679000  3080.508612  3117.825494\n",
       "2021-07-06  3043.472412  3104.765361  3037.688340  3090.771526\n",
       "2021-07-07  3055.273193  3062.503340  3024.160378  3055.319885\n",
       "...                 ...          ...          ...          ...\n",
       "2022-01-20  3590.827637  3678.520902  3576.235499  3669.136920\n",
       "2022-01-21  3597.349365  3614.287498  3538.793411  3572.481814\n",
       "2022-01-24  3539.028564  3612.504969  3509.703617  3603.449517\n",
       "2022-01-25  3537.666992  3574.733718  3492.905448  3537.291725\n",
       "2022-01-27  3424.449951  3503.416075  3401.787724  3501.164011\n",
       "\n",
       "[144 rows x 4 columns]"
      ]
     },
     "execution_count": 1,
     "metadata": {},
     "output_type": "execute_result"
    }
   ],
   "source": [
    "import yfinance as yf\n",
    "\n",
    "df= yf.download(\"TCS.NS\", start=\"2021-07-01\", end=\"2022-01-28\")\n",
    "import pandas as pd\n",
    "if isinstance(df.columns, pd.MultiIndex):\n",
    "    df.columns = df.columns.get_level_values(0)\n",
    "df.columns.name = None \n",
    "dataset=df.drop(columns=['Volume'])\n",
    "dataset"
   ]
  },
  {
   "cell_type": "code",
   "execution_count": 2,
   "id": "1b68d6df-0669-4222-b628-993804f88e94",
   "metadata": {},
   "outputs": [],
   "source": [
    "#column='Close'"
   ]
  },
  {
   "cell_type": "code",
   "execution_count": 2,
   "id": "4990c96d-8399-40ba-9413-43f0c02b65a5",
   "metadata": {},
   "outputs": [
    {
     "name": "stdout",
     "output_type": "stream",
     "text": [
      "Len: (144, 4)\n"
     ]
    }
   ],
   "source": [
    "from sklearn.preprocessing import MinMaxScaler\n",
    "Ms=MinMaxScaler()\n",
    "data1=Ms.fit_transform(dataset)\n",
    "print('Len:',data1.shape)"
   ]
  },
  {
   "cell_type": "code",
   "execution_count": 3,
   "id": "2cb044c6-37ab-4ec0-9e0a-87b78b1dcf08",
   "metadata": {},
   "outputs": [
    {
     "data": {
      "text/plain": [
       "144"
      ]
     },
     "execution_count": 3,
     "metadata": {},
     "output_type": "execute_result"
    }
   ],
   "source": [
    "len(data1)"
   ]
  },
  {
   "cell_type": "code",
   "execution_count": 4,
   "id": "50823fb7-6541-4303-b572-ad6db55513bc",
   "metadata": {},
   "outputs": [
    {
     "name": "stdout",
     "output_type": "stream",
     "text": [
      "122\n",
      "x_train length: (122, 4)\n",
      "x_test length: (22, 4)\n",
      "x_train length: (122, 4)\n",
      "x_test length: (22, 4)\n"
     ]
    }
   ],
   "source": [
    "training_size=round(len(data1)* 0.85)\n",
    "print(training_size)\n",
    "x_train=data1[:training_size]\n",
    "x_test=data1[training_size:]\n",
    "print(\"x_train length:\",x_train.shape)\n",
    "print(\"x_test length:\",x_test.shape)\n",
    "y_train=data1[:training_size]\n",
    "y_test=data1[training_size:]\n",
    "print(\"x_train length:\",y_train.shape)\n",
    "print(\"x_test length:\",y_test.shape)"
   ]
  },
  {
   "cell_type": "code",
   "execution_count": 27,
   "id": "12731113-6f63-499e-bde4-def08e36a2bd",
   "metadata": {},
   "outputs": [],
   "source": [
    "import warnings\n",
    "warnings.filterwarnings(\"ignore\")"
   ]
  },
  {
   "cell_type": "code",
   "execution_count": 6,
   "id": "45180a20-b640-482b-b2a8-d238f947f787",
   "metadata": {},
   "outputs": [],
   "source": [
    "data1=pd.DataFrame(data1,columns=[\"Open\",\"High\",\"Low\",\"Close\"])"
   ]
  },
  {
   "cell_type": "code",
   "execution_count": 20,
   "id": "fd220961-6216-40d8-b6c7-2befd5c0a46f",
   "metadata": {},
   "outputs": [],
   "source": [
    "from statsmodels.tsa.statespace.varmax import VARMAX\n",
    "from sklearn.metrics import mean_squared_error, mean_absolute_percentage_error\n",
    "import pandas as pd\n",
    "import numpy as np\n",
    "\n",
    "# Define global performance tracking dictionary\n",
    "performance = {\n",
    "    \"Model\": [],\n",
    "    \"RMSE\": [],\n",
    "    \"MaPe\": [],\n",
    "    \"Lag\": [],\n",
    "    \"Test\": []\n",
    "}\n",
    "\n",
    "def cominbation(dataset, listt):\n",
    "    print(\"Selected columns:\", listt)\n",
    "    datasetTwo = dataset[listt]\n",
    "\n",
    "    test_obs = 28\n",
    "    train = datasetTwo[:-test_obs]\n",
    "    test = datasetTwo[-test_obs:]\n",
    "\n",
    "    best_aic = np.inf\n",
    "    best_order = None\n",
    "    best_model = None\n",
    "\n",
    "    # Search over VARMA(p, q) combinations\n",
    "    for p in range(0, 4):  # AR order\n",
    "        for q in range(0, 4):  # MA order\n",
    "            if p == 0 and q == 0:\n",
    "                continue  # skip (0,0)\n",
    "            try:\n",
    "                model = VARMAX(train, order=(p, q), enforce_stationarity=True)\n",
    "                results = model.fit(disp=False)\n",
    "                print(f\"Order = ({p},{q}), AIC = {results.aic}\")\n",
    "\n",
    "                if results.aic < best_aic:\n",
    "                    best_aic = results.aic\n",
    "                    best_order = (p, q)\n",
    "                    best_model = results\n",
    "            except Exception as e:\n",
    "                print(f\"Failed for order=({p},{q}): {e}\")\n",
    "                continue\n",
    "\n",
    "    print(f\"\\n✅ Best order: {best_order} with AIC: {best_aic}\")\n",
    "\n",
    "    # Forecast using the best model\n",
    "    pred = best_model.forecast(steps=test_obs)\n",
    "    preds = pd.DataFrame(pred, columns=listt)\n",
    "\n",
    "    # Save predictions\n",
    "    preds.to_csv(f\"varma_forecasted_{test_obs}.csv\", index=False)\n",
    "\n",
    "    # Evaluate forecast\n",
    "    rmse = round(mean_squared_error(test, preds, squared=False))\n",
    "    mape = mean_absolute_percentage_error(test, preds)\n",
    "\n",
    "    # Log performance\n",
    "    performance[\"Model\"].append(listt)\n",
    "    performance[\"RMSE\"].append(rmse)\n",
    "    performance[\"MaPe\"].append(mape)\n",
    "    performance[\"Lag\"].append(best_order)\n",
    "    performance[\"Test\"].append(test_obs)\n",
    "\n",
    "    perf = pd.DataFrame(performance)\n",
    "    return perf, best_model, preds\n"
   ]
  },
  {
   "cell_type": "code",
   "execution_count": 24,
   "id": "4b601321-7732-49f1-a076-cbf6fd29021e",
   "metadata": {},
   "outputs": [],
   "source": [
    "listt=[\"Open\",\"High\",\"Low\",\"Close\"]"
   ]
  },
  {
   "cell_type": "code",
   "execution_count": 25,
   "id": "2ee05207-8cbd-4105-b775-0b8d62fde511",
   "metadata": {},
   "outputs": [
    {
     "name": "stdout",
     "output_type": "stream",
     "text": [
      "Selected columns: ['Open', 'High', 'Low', 'Close']\n"
     ]
    },
    {
     "name": "stderr",
     "output_type": "stream",
     "text": [
      "C:\\Anaconda\\envs\\aiml\\Lib\\site-packages\\statsmodels\\base\\model.py:607: ConvergenceWarning: Maximum Likelihood optimization failed to converge. Check mle_retvals\n",
      "  warnings.warn(\"Maximum Likelihood optimization failed to \"\n"
     ]
    },
    {
     "name": "stdout",
     "output_type": "stream",
     "text": [
      "Order = (0,1), AIC = -1617.2256153630108\n"
     ]
    },
    {
     "name": "stderr",
     "output_type": "stream",
     "text": [
      "C:\\Anaconda\\envs\\aiml\\Lib\\site-packages\\statsmodels\\base\\model.py:607: ConvergenceWarning: Maximum Likelihood optimization failed to converge. Check mle_retvals\n",
      "  warnings.warn(\"Maximum Likelihood optimization failed to \"\n"
     ]
    },
    {
     "name": "stdout",
     "output_type": "stream",
     "text": [
      "Order = (0,2), AIC = -1582.436394707427\n"
     ]
    },
    {
     "name": "stderr",
     "output_type": "stream",
     "text": [
      "C:\\Anaconda\\envs\\aiml\\Lib\\site-packages\\statsmodels\\base\\model.py:607: ConvergenceWarning: Maximum Likelihood optimization failed to converge. Check mle_retvals\n",
      "  warnings.warn(\"Maximum Likelihood optimization failed to \"\n"
     ]
    },
    {
     "name": "stdout",
     "output_type": "stream",
     "text": [
      "Order = (0,3), AIC = -1218.3300938721763\n",
      "Order = (1,0), AIC = -2059.416654586331\n"
     ]
    },
    {
     "name": "stderr",
     "output_type": "stream",
     "text": [
      "C:\\Anaconda\\envs\\aiml\\Lib\\site-packages\\statsmodels\\tsa\\statespace\\varmax.py:160: EstimationWarning: Estimation of VARMA(p,q) models is not generically robust, due especially to identification issues.\n",
      "  warn('Estimation of VARMA(p,q) models is not generically robust,'\n"
     ]
    },
    {
     "name": "stdout",
     "output_type": "stream",
     "text": [
      "Order = (1,1), AIC = -2035.555632842681\n"
     ]
    },
    {
     "name": "stderr",
     "output_type": "stream",
     "text": [
      "C:\\Anaconda\\envs\\aiml\\Lib\\site-packages\\statsmodels\\tsa\\statespace\\varmax.py:160: EstimationWarning: Estimation of VARMA(p,q) models is not generically robust, due especially to identification issues.\n",
      "  warn('Estimation of VARMA(p,q) models is not generically robust,'\n"
     ]
    },
    {
     "name": "stdout",
     "output_type": "stream",
     "text": [
      "Order = (1,2), AIC = -2025.6080834578993\n"
     ]
    },
    {
     "name": "stderr",
     "output_type": "stream",
     "text": [
      "C:\\Anaconda\\envs\\aiml\\Lib\\site-packages\\statsmodels\\tsa\\statespace\\varmax.py:160: EstimationWarning: Estimation of VARMA(p,q) models is not generically robust, due especially to identification issues.\n",
      "  warn('Estimation of VARMA(p,q) models is not generically robust,'\n",
      "C:\\Anaconda\\envs\\aiml\\Lib\\site-packages\\statsmodels\\base\\model.py:607: ConvergenceWarning: Maximum Likelihood optimization failed to converge. Check mle_retvals\n",
      "  warnings.warn(\"Maximum Likelihood optimization failed to \"\n"
     ]
    },
    {
     "name": "stdout",
     "output_type": "stream",
     "text": [
      "Order = (1,3), AIC = -2021.0073616718068\n",
      "Order = (2,0), AIC = -2052.025543610182\n"
     ]
    },
    {
     "name": "stderr",
     "output_type": "stream",
     "text": [
      "C:\\Anaconda\\envs\\aiml\\Lib\\site-packages\\statsmodels\\tsa\\statespace\\varmax.py:160: EstimationWarning: Estimation of VARMA(p,q) models is not generically robust, due especially to identification issues.\n",
      "  warn('Estimation of VARMA(p,q) models is not generically robust,'\n"
     ]
    },
    {
     "name": "stdout",
     "output_type": "stream",
     "text": [
      "Order = (2,1), AIC = -2020.5979350923744\n"
     ]
    },
    {
     "name": "stderr",
     "output_type": "stream",
     "text": [
      "C:\\Anaconda\\envs\\aiml\\Lib\\site-packages\\statsmodels\\tsa\\statespace\\varmax.py:160: EstimationWarning: Estimation of VARMA(p,q) models is not generically robust, due especially to identification issues.\n",
      "  warn('Estimation of VARMA(p,q) models is not generically robust,'\n"
     ]
    },
    {
     "name": "stdout",
     "output_type": "stream",
     "text": [
      "Order = (2,2), AIC = -1994.9473789710278\n"
     ]
    },
    {
     "name": "stderr",
     "output_type": "stream",
     "text": [
      "C:\\Anaconda\\envs\\aiml\\Lib\\site-packages\\statsmodels\\tsa\\statespace\\varmax.py:160: EstimationWarning: Estimation of VARMA(p,q) models is not generically robust, due especially to identification issues.\n",
      "  warn('Estimation of VARMA(p,q) models is not generically robust,'\n",
      "C:\\Anaconda\\envs\\aiml\\Lib\\site-packages\\statsmodels\\base\\model.py:607: ConvergenceWarning: Maximum Likelihood optimization failed to converge. Check mle_retvals\n",
      "  warnings.warn(\"Maximum Likelihood optimization failed to \"\n"
     ]
    },
    {
     "name": "stdout",
     "output_type": "stream",
     "text": [
      "Order = (2,3), AIC = -1988.564367378916\n",
      "Order = (3,0), AIC = -2036.1764861398929\n"
     ]
    },
    {
     "name": "stderr",
     "output_type": "stream",
     "text": [
      "C:\\Anaconda\\envs\\aiml\\Lib\\site-packages\\statsmodels\\tsa\\statespace\\varmax.py:160: EstimationWarning: Estimation of VARMA(p,q) models is not generically robust, due especially to identification issues.\n",
      "  warn('Estimation of VARMA(p,q) models is not generically robust,'\n"
     ]
    },
    {
     "name": "stdout",
     "output_type": "stream",
     "text": [
      "Order = (3,1), AIC = -2005.0472674295847\n"
     ]
    },
    {
     "name": "stderr",
     "output_type": "stream",
     "text": [
      "C:\\Anaconda\\envs\\aiml\\Lib\\site-packages\\statsmodels\\tsa\\statespace\\varmax.py:160: EstimationWarning: Estimation of VARMA(p,q) models is not generically robust, due especially to identification issues.\n",
      "  warn('Estimation of VARMA(p,q) models is not generically robust,'\n"
     ]
    },
    {
     "name": "stdout",
     "output_type": "stream",
     "text": [
      "Order = (3,2), AIC = -1976.6425489354583\n"
     ]
    },
    {
     "name": "stderr",
     "output_type": "stream",
     "text": [
      "C:\\Anaconda\\envs\\aiml\\Lib\\site-packages\\statsmodels\\tsa\\statespace\\varmax.py:160: EstimationWarning: Estimation of VARMA(p,q) models is not generically robust, due especially to identification issues.\n",
      "  warn('Estimation of VARMA(p,q) models is not generically robust,'\n",
      "C:\\Anaconda\\envs\\aiml\\Lib\\site-packages\\statsmodels\\base\\model.py:607: ConvergenceWarning: Maximum Likelihood optimization failed to converge. Check mle_retvals\n",
      "  warnings.warn(\"Maximum Likelihood optimization failed to \"\n"
     ]
    },
    {
     "name": "stdout",
     "output_type": "stream",
     "text": [
      "Order = (3,3), AIC = -1958.8811567484709\n",
      "\n",
      "✅ Best order: (1, 0) with AIC: -2059.416654586331\n"
     ]
    }
   ],
   "source": [
    "perf,result,pred=cominbation(data1,listt)"
   ]
  },
  {
   "cell_type": "code",
   "execution_count": 26,
   "id": "8cd067ef-fa6a-4cd8-8fe6-e560078e44b0",
   "metadata": {},
   "outputs": [
    {
     "data": {
      "text/html": [
       "<div>\n",
       "<style scoped>\n",
       "    .dataframe tbody tr th:only-of-type {\n",
       "        vertical-align: middle;\n",
       "    }\n",
       "\n",
       "    .dataframe tbody tr th {\n",
       "        vertical-align: top;\n",
       "    }\n",
       "\n",
       "    .dataframe thead th {\n",
       "        text-align: right;\n",
       "    }\n",
       "</style>\n",
       "<table border=\"1\" class=\"dataframe\">\n",
       "  <thead>\n",
       "    <tr style=\"text-align: right;\">\n",
       "      <th></th>\n",
       "      <th>Model</th>\n",
       "      <th>RMSE</th>\n",
       "      <th>MaPe</th>\n",
       "      <th>Lag</th>\n",
       "      <th>Test</th>\n",
       "    </tr>\n",
       "  </thead>\n",
       "  <tbody>\n",
       "    <tr>\n",
       "      <th>0</th>\n",
       "      <td>[Close, High]</td>\n",
       "      <td>0</td>\n",
       "      <td>0.321843</td>\n",
       "      <td>(2, 0)</td>\n",
       "      <td>28</td>\n",
       "    </tr>\n",
       "    <tr>\n",
       "      <th>1</th>\n",
       "      <td>[Open, High, Low, Close]</td>\n",
       "      <td>0</td>\n",
       "      <td>0.330332</td>\n",
       "      <td>(1, 0)</td>\n",
       "      <td>28</td>\n",
       "    </tr>\n",
       "  </tbody>\n",
       "</table>\n",
       "</div>"
      ],
      "text/plain": [
       "                      Model  RMSE      MaPe     Lag  Test\n",
       "0             [Close, High]     0  0.321843  (2, 0)    28\n",
       "1  [Open, High, Low, Close]     0  0.330332  (1, 0)    28"
      ]
     },
     "execution_count": 26,
     "metadata": {},
     "output_type": "execute_result"
    }
   ],
   "source": [
    "perf"
   ]
  },
  {
   "cell_type": "code",
   "execution_count": null,
   "id": "1f1ce46a-5aa9-4625-84e0-1136d7e006b4",
   "metadata": {},
   "outputs": [],
   "source": []
  }
 ],
 "metadata": {
  "kernelspec": {
   "display_name": "Python 3 (ipykernel)",
   "language": "python",
   "name": "python3"
  },
  "language_info": {
   "codemirror_mode": {
    "name": "ipython",
    "version": 3
   },
   "file_extension": ".py",
   "mimetype": "text/x-python",
   "name": "python",
   "nbconvert_exporter": "python",
   "pygments_lexer": "ipython3",
   "version": "3.11.11"
  }
 },
 "nbformat": 4,
 "nbformat_minor": 5
}
