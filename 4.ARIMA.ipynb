{
 "cells": [
  {
   "cell_type": "code",
   "execution_count": 1,
   "id": "392f0933-d9ce-4773-85e6-b6f21dd34584",
   "metadata": {},
   "outputs": [
    {
     "name": "stdout",
     "output_type": "stream",
     "text": [
      "YF.download() has changed argument auto_adjust default to True\n"
     ]
    },
    {
     "name": "stderr",
     "output_type": "stream",
     "text": [
      "[*********************100%***********************]  1 of 1 completed\n"
     ]
    }
   ],
   "source": [
    "#!pip install yfinance\n",
    "import yfinance as yf\n",
    "\n",
    "df= yf.download(\"TCS.NS\", start=\"2021-07-01\", end=\"2022-01-28\")\n"
   ]
  },
  {
   "cell_type": "code",
   "execution_count": 2,
   "id": "6d26997d-ea51-4143-b9a7-0659206902b0",
   "metadata": {},
   "outputs": [
    {
     "data": {
      "text/html": [
       "<div>\n",
       "<style scoped>\n",
       "    .dataframe tbody tr th:only-of-type {\n",
       "        vertical-align: middle;\n",
       "    }\n",
       "\n",
       "    .dataframe tbody tr th {\n",
       "        vertical-align: top;\n",
       "    }\n",
       "\n",
       "    .dataframe thead th {\n",
       "        text-align: right;\n",
       "    }\n",
       "</style>\n",
       "<table border=\"1\" class=\"dataframe\">\n",
       "  <thead>\n",
       "    <tr style=\"text-align: right;\">\n",
       "      <th></th>\n",
       "      <th>Close</th>\n",
       "      <th>High</th>\n",
       "      <th>Low</th>\n",
       "      <th>Open</th>\n",
       "    </tr>\n",
       "    <tr>\n",
       "      <th>Date</th>\n",
       "      <th></th>\n",
       "      <th></th>\n",
       "      <th></th>\n",
       "      <th></th>\n",
       "    </tr>\n",
       "  </thead>\n",
       "  <tbody>\n",
       "    <tr>\n",
       "      <th>2021-07-01</th>\n",
       "      <td>3180.317871</td>\n",
       "      <td>3199.829024</td>\n",
       "      <td>3171.609328</td>\n",
       "      <td>3196.021970</td>\n",
       "    </tr>\n",
       "    <tr>\n",
       "      <th>2021-07-02</th>\n",
       "      <td>3165.042236</td>\n",
       "      <td>3178.604868</td>\n",
       "      <td>3136.251387</td>\n",
       "      <td>3170.324571</td>\n",
       "    </tr>\n",
       "    <tr>\n",
       "      <th>2021-07-05</th>\n",
       "      <td>3160.806641</td>\n",
       "      <td>3211.250107</td>\n",
       "      <td>3142.723134</td>\n",
       "      <td>3180.793674</td>\n",
       "    </tr>\n",
       "    <tr>\n",
       "      <th>2021-07-06</th>\n",
       "      <td>3104.938232</td>\n",
       "      <td>3167.469050</td>\n",
       "      <td>3099.037345</td>\n",
       "      <td>3153.192597</td>\n",
       "    </tr>\n",
       "    <tr>\n",
       "      <th>2021-07-07</th>\n",
       "      <td>3116.978027</td>\n",
       "      <td>3124.354195</td>\n",
       "      <td>3085.236852</td>\n",
       "      <td>3117.025662</td>\n",
       "    </tr>\n",
       "    <tr>\n",
       "      <th>...</th>\n",
       "      <td>...</td>\n",
       "      <td>...</td>\n",
       "      <td>...</td>\n",
       "      <td>...</td>\n",
       "    </tr>\n",
       "    <tr>\n",
       "      <th>2022-01-20</th>\n",
       "      <td>3663.348145</td>\n",
       "      <td>3752.812466</td>\n",
       "      <td>3648.461303</td>\n",
       "      <td>3743.238965</td>\n",
       "    </tr>\n",
       "    <tr>\n",
       "      <th>2022-01-21</th>\n",
       "      <td>3670.001953</td>\n",
       "      <td>3687.282171</td>\n",
       "      <td>3610.263395</td>\n",
       "      <td>3644.632173</td>\n",
       "    </tr>\n",
       "    <tr>\n",
       "      <th>2022-01-24</th>\n",
       "      <td>3610.502686</td>\n",
       "      <td>3685.463017</td>\n",
       "      <td>3580.585492</td>\n",
       "      <td>3676.224682</td>\n",
       "    </tr>\n",
       "    <tr>\n",
       "      <th>2022-01-25</th>\n",
       "      <td>3609.114502</td>\n",
       "      <td>3646.929836</td>\n",
       "      <td>3563.448943</td>\n",
       "      <td>3608.731655</td>\n",
       "    </tr>\n",
       "    <tr>\n",
       "      <th>2022-01-27</th>\n",
       "      <td>3493.609863</td>\n",
       "      <td>3574.170781</td>\n",
       "      <td>3470.489952</td>\n",
       "      <td>3571.873234</td>\n",
       "    </tr>\n",
       "  </tbody>\n",
       "</table>\n",
       "<p>144 rows × 4 columns</p>\n",
       "</div>"
      ],
      "text/plain": [
       "                  Close         High          Low         Open\n",
       "Date                                                          \n",
       "2021-07-01  3180.317871  3199.829024  3171.609328  3196.021970\n",
       "2021-07-02  3165.042236  3178.604868  3136.251387  3170.324571\n",
       "2021-07-05  3160.806641  3211.250107  3142.723134  3180.793674\n",
       "2021-07-06  3104.938232  3167.469050  3099.037345  3153.192597\n",
       "2021-07-07  3116.978027  3124.354195  3085.236852  3117.025662\n",
       "...                 ...          ...          ...          ...\n",
       "2022-01-20  3663.348145  3752.812466  3648.461303  3743.238965\n",
       "2022-01-21  3670.001953  3687.282171  3610.263395  3644.632173\n",
       "2022-01-24  3610.502686  3685.463017  3580.585492  3676.224682\n",
       "2022-01-25  3609.114502  3646.929836  3563.448943  3608.731655\n",
       "2022-01-27  3493.609863  3574.170781  3470.489952  3571.873234\n",
       "\n",
       "[144 rows x 4 columns]"
      ]
     },
     "execution_count": 2,
     "metadata": {},
     "output_type": "execute_result"
    }
   ],
   "source": [
    "import pandas as pd\n",
    "if isinstance(df.columns, pd.MultiIndex):\n",
    "    df.columns = df.columns.get_level_values(0)\n",
    "df.columns.name = None \n",
    "dataset=df.drop(columns=['Volume'])\n",
    "dataset"
   ]
  },
  {
   "cell_type": "code",
   "execution_count": 3,
   "id": "1b68d6df-0669-4222-b628-993804f88e94",
   "metadata": {},
   "outputs": [],
   "source": [
    "column='Close'"
   ]
  },
  {
   "cell_type": "code",
   "execution_count": 4,
   "id": "4990c96d-8399-40ba-9413-43f0c02b65a5",
   "metadata": {},
   "outputs": [
    {
     "name": "stdout",
     "output_type": "stream",
     "text": [
      "Len: (144, 1)\n"
     ]
    }
   ],
   "source": [
    "from sklearn.preprocessing import MinMaxScaler\n",
    "Ms=MinMaxScaler()\n",
    "data1=Ms.fit_transform(dataset[[column]])\n",
    "print('Len:',data1.shape)"
   ]
  },
  {
   "cell_type": "code",
   "execution_count": 5,
   "id": "2cb044c6-37ab-4ec0-9e0a-87b78b1dcf08",
   "metadata": {},
   "outputs": [
    {
     "data": {
      "text/plain": [
       "144"
      ]
     },
     "execution_count": 5,
     "metadata": {},
     "output_type": "execute_result"
    }
   ],
   "source": [
    "len(data1)"
   ]
  },
  {
   "cell_type": "code",
   "execution_count": 6,
   "id": "50823fb7-6541-4303-b572-ad6db55513bc",
   "metadata": {},
   "outputs": [
    {
     "name": "stdout",
     "output_type": "stream",
     "text": [
      "115\n",
      "x_train length: (115, 1)\n",
      "x_test length: (29, 1)\n",
      "x_train length: (115, 1)\n",
      "x_test length: (29, 1)\n"
     ]
    }
   ],
   "source": [
    "training_size=round(len(data1)* 0.80)\n",
    "print(training_size)\n",
    "x_train=data1[:training_size]\n",
    "x_test=data1[training_size:]\n",
    "print(\"x_train length:\",x_train.shape)\n",
    "print(\"x_test length:\",x_test.shape)\n",
    "y_train=data1[:training_size]\n",
    "y_test=data1[training_size:]\n",
    "print(\"x_train length:\",y_train.shape)\n",
    "print(\"x_test length:\",y_test.shape)"
   ]
  },
  {
   "cell_type": "code",
   "execution_count": 7,
   "id": "12731113-6f63-499e-bde4-def08e36a2bd",
   "metadata": {},
   "outputs": [],
   "source": [
    "import warnings\n",
    "warnings.filterwarnings(\"ignore\")"
   ]
  },
  {
   "cell_type": "code",
   "execution_count": 8,
   "id": "c67d2530-75ac-4a0f-b4df-aa3ecd9f5b1e",
   "metadata": {},
   "outputs": [
    {
     "name": "stdout",
     "output_type": "stream",
     "text": [
      "Order=(1, 1, 1)\n",
      "RMSE-Testset: 0.2799858309228387\n",
      "maPe-Testset: 0.30488088450049783\n",
      "*****************\n",
      "Order=(1, 1, 2)\n",
      "RMSE-Testset: 0.2782429546774082\n",
      "maPe-Testset: 0.30215659177596305\n",
      "*****************\n",
      "Order=(2, 3, 1)\n",
      "RMSE-Testset: 0.43779207800028186\n",
      "maPe-Testset: 0.49398156290082745\n",
      "*****************\n",
      "Order=(2, 2, 2)\n",
      "RMSE-Testset: 0.2588729816923573\n",
      "maPe-Testset: 0.2783367277536263\n",
      "*****************\n"
     ]
    }
   ],
   "source": [
    "from sklearn.metrics import mean_squared_error\n",
    "orders=[(1,1,1),(1,1,2),(2,3,1),(2,2,2)]\n",
    "from statsmodels.tsa.arima.model import ARIMA\n",
    "for i in orders:\n",
    "    model=ARIMA(x_train, order=i)\n",
    "    model_fit=model.fit()\n",
    "    #make prediction\n",
    "    y_pred=model_fit.predict(len(x_train), len(data1)-1)\n",
    "    from stockFunctions import rmsemape\n",
    "    print(\"Order={}\". format(i))\n",
    "    rmsemape(y_test, y_pred)\n",
    "    print('*****************')"
   ]
  },
  {
   "cell_type": "code",
   "execution_count": 9,
   "id": "18241175-0130-4918-9910-b229e4e322b5",
   "metadata": {},
   "outputs": [
    {
     "data": {
      "text/plain": [
       "29"
      ]
     },
     "execution_count": 9,
     "metadata": {},
     "output_type": "execute_result"
    }
   ],
   "source": [
    "len(y_pred)"
   ]
  },
  {
   "cell_type": "code",
   "execution_count": 10,
   "id": "454ab2d3-701d-466b-859f-9d8f12ac7323",
   "metadata": {},
   "outputs": [
    {
     "name": "stdout",
     "output_type": "stream",
     "text": [
      "Order=(2, 2, 2)\n",
      "RMSE-Testset: 0.2588729816923573\n",
      "maPe-Testset: 0.2783367277536263\n",
      "************\n"
     ]
    }
   ],
   "source": [
    "order=(2,2,2)\n",
    "model=ARIMA(x_train, order=order)\n",
    "model_fit=model.fit()\n",
    "#make prediction\n",
    "y_pred=model_fit.predict(len(x_train), len(data1)-1)\n",
    "\n",
    "mse=mean_squared_error(y_test, y_pred, squared=False)\n",
    "from stockFunctions import rmsemape\n",
    "print(\"Order={}\".format(order))\n",
    "rmsemape(y_test,y_pred)\n",
    "print(\"************\")"
   ]
  },
  {
   "cell_type": "code",
   "execution_count": 11,
   "id": "4f65f5f7-6ffc-4c2b-80d3-704bce21d4d5",
   "metadata": {},
   "outputs": [
    {
     "data": {
      "image/png": "[encoded data removed]",
      "text/plain": [
       "<Figure size 1000x500 with 1 Axes>"
      ]
     },
     "metadata": {},
     "output_type": "display_data"
    }
   ],
   "source": [
    "from stockFunctions import graph\n",
    "graph(y_test,y_pred,\"Actual\",\"Predicted\",\"TataCoffee-Close-AR-Norm\",\"Days\",\"Prices\")"
   ]
  },
  {
   "cell_type": "code",
   "execution_count": 12,
   "id": "cdf46c8d-faf7-446c-abf2-49c3b31d1850",
   "metadata": {},
   "outputs": [
    {
     "data": {
      "text/plain": [
       "144"
      ]
     },
     "execution_count": 12,
     "metadata": {},
     "output_type": "execute_result"
    }
   ],
   "source": [
    "len(data1)"
   ]
  },
  {
   "cell_type": "code",
   "execution_count": 13,
   "id": "71a8d464-f803-4d32-bd73-85b239eb5444",
   "metadata": {},
   "outputs": [
    {
     "data": {
      "text/plain": [
       "array([[0.4931013 ],\n",
       "       [0.46110018],\n",
       "       [0.52102251],\n",
       "       [0.54719607],\n",
       "       [0.5844437 ],\n",
       "       [0.59400303],\n",
       "       [0.62338239],\n",
       "       [0.63556497],\n",
       "       [0.62174971],\n",
       "       [0.66727513],\n",
       "       [0.67263808],\n",
       "       [0.76520455],\n",
       "       [0.84331364],\n",
       "       [0.81556726],\n",
       "       [0.7531959 ],\n",
       "       [0.80688235],\n",
       "       [0.83760074],\n",
       "       [0.87962878],\n",
       "       [0.81434319],\n",
       "       [0.85864454],\n",
       "       [0.94054287],\n",
       "       [1.        ],\n",
       "       [0.96671614],\n",
       "       [0.88619138],\n",
       "       [0.78330196],\n",
       "       [0.79141891],\n",
       "       [0.71883599],\n",
       "       [0.71714255],\n",
       "       [0.57623889]])"
      ]
     },
     "execution_count": 13,
     "metadata": {},
     "output_type": "execute_result"
    }
   ],
   "source": [
    "y_test"
   ]
  },
  {
   "cell_type": "code",
   "execution_count": 14,
   "id": "b1612908-b172-4337-b497-c53cc28bfb5a",
   "metadata": {},
   "outputs": [],
   "source": [
    "from stockFunctions import conversionSingle\n",
    "aTestNormTable=conversionSingle(y_test,[column])"
   ]
  },
  {
   "cell_type": "code",
   "execution_count": 15,
   "id": "ea64385e-81b4-454a-a8b3-f1749c42a0f8",
   "metadata": {},
   "outputs": [
    {
     "data": {
      "text/html": [
       "<div>\n",
       "<style scoped>\n",
       "    .dataframe tbody tr th:only-of-type {\n",
       "        vertical-align: middle;\n",
       "    }\n",
       "\n",
       "    .dataframe tbody tr th {\n",
       "        vertical-align: top;\n",
       "    }\n",
       "\n",
       "    .dataframe thead th {\n",
       "        text-align: right;\n",
       "    }\n",
       "</style>\n",
       "<table border=\"1\" class=\"dataframe\">\n",
       "  <thead>\n",
       "    <tr style=\"text-align: right;\">\n",
       "      <th></th>\n",
       "      <th>Close</th>\n",
       "    </tr>\n",
       "  </thead>\n",
       "  <tbody>\n",
       "    <tr>\n",
       "      <th>0</th>\n",
       "      <td>0.493101</td>\n",
       "    </tr>\n",
       "    <tr>\n",
       "      <th>1</th>\n",
       "      <td>0.4611</td>\n",
       "    </tr>\n",
       "    <tr>\n",
       "      <th>2</th>\n",
       "      <td>0.521023</td>\n",
       "    </tr>\n",
       "    <tr>\n",
       "      <th>3</th>\n",
       "      <td>0.547196</td>\n",
       "    </tr>\n",
       "    <tr>\n",
       "      <th>4</th>\n",
       "      <td>0.584444</td>\n",
       "    </tr>\n",
       "    <tr>\n",
       "      <th>5</th>\n",
       "      <td>0.594003</td>\n",
       "    </tr>\n",
       "    <tr>\n",
       "      <th>6</th>\n",
       "      <td>0.623382</td>\n",
       "    </tr>\n",
       "    <tr>\n",
       "      <th>7</th>\n",
       "      <td>0.635565</td>\n",
       "    </tr>\n",
       "    <tr>\n",
       "      <th>8</th>\n",
       "      <td>0.62175</td>\n",
       "    </tr>\n",
       "    <tr>\n",
       "      <th>9</th>\n",
       "      <td>0.667275</td>\n",
       "    </tr>\n",
       "    <tr>\n",
       "      <th>10</th>\n",
       "      <td>0.672638</td>\n",
       "    </tr>\n",
       "    <tr>\n",
       "      <th>11</th>\n",
       "      <td>0.765205</td>\n",
       "    </tr>\n",
       "    <tr>\n",
       "      <th>12</th>\n",
       "      <td>0.843314</td>\n",
       "    </tr>\n",
       "    <tr>\n",
       "      <th>13</th>\n",
       "      <td>0.815567</td>\n",
       "    </tr>\n",
       "    <tr>\n",
       "      <th>14</th>\n",
       "      <td>0.753196</td>\n",
       "    </tr>\n",
       "    <tr>\n",
       "      <th>15</th>\n",
       "      <td>0.806882</td>\n",
       "    </tr>\n",
       "    <tr>\n",
       "      <th>16</th>\n",
       "      <td>0.837601</td>\n",
       "    </tr>\n",
       "    <tr>\n",
       "      <th>17</th>\n",
       "      <td>0.879629</td>\n",
       "    </tr>\n",
       "    <tr>\n",
       "      <th>18</th>\n",
       "      <td>0.814343</td>\n",
       "    </tr>\n",
       "    <tr>\n",
       "      <th>19</th>\n",
       "      <td>0.858645</td>\n",
       "    </tr>\n",
       "    <tr>\n",
       "      <th>20</th>\n",
       "      <td>0.940543</td>\n",
       "    </tr>\n",
       "    <tr>\n",
       "      <th>21</th>\n",
       "      <td>1.0</td>\n",
       "    </tr>\n",
       "    <tr>\n",
       "      <th>22</th>\n",
       "      <td>0.966716</td>\n",
       "    </tr>\n",
       "    <tr>\n",
       "      <th>23</th>\n",
       "      <td>0.886191</td>\n",
       "    </tr>\n",
       "    <tr>\n",
       "      <th>24</th>\n",
       "      <td>0.783302</td>\n",
       "    </tr>\n",
       "    <tr>\n",
       "      <th>25</th>\n",
       "      <td>0.791419</td>\n",
       "    </tr>\n",
       "    <tr>\n",
       "      <th>26</th>\n",
       "      <td>0.718836</td>\n",
       "    </tr>\n",
       "    <tr>\n",
       "      <th>27</th>\n",
       "      <td>0.717143</td>\n",
       "    </tr>\n",
       "    <tr>\n",
       "      <th>28</th>\n",
       "      <td>0.576239</td>\n",
       "    </tr>\n",
       "  </tbody>\n",
       "</table>\n",
       "</div>"
      ],
      "text/plain": [
       "       Close\n",
       "0   0.493101\n",
       "1     0.4611\n",
       "2   0.521023\n",
       "3   0.547196\n",
       "4   0.584444\n",
       "5   0.594003\n",
       "6   0.623382\n",
       "7   0.635565\n",
       "8    0.62175\n",
       "9   0.667275\n",
       "10  0.672638\n",
       "11  0.765205\n",
       "12  0.843314\n",
       "13  0.815567\n",
       "14  0.753196\n",
       "15  0.806882\n",
       "16  0.837601\n",
       "17  0.879629\n",
       "18  0.814343\n",
       "19  0.858645\n",
       "20  0.940543\n",
       "21       1.0\n",
       "22  0.966716\n",
       "23  0.886191\n",
       "24  0.783302\n",
       "25  0.791419\n",
       "26  0.718836\n",
       "27  0.717143\n",
       "28  0.576239"
      ]
     },
     "execution_count": 15,
     "metadata": {},
     "output_type": "execute_result"
    }
   ],
   "source": [
    "aTestNormTable"
   ]
  },
  {
   "cell_type": "code",
   "execution_count": 16,
   "id": "1dc9536f-5e14-4775-bfc9-0f96b39d4915",
   "metadata": {},
   "outputs": [
    {
     "data": {
      "text/plain": [
       "array([[3425.45849609],\n",
       "       [3399.22583008],\n",
       "       [3448.34667969],\n",
       "       [3469.80224609],\n",
       "       [3500.33569336],\n",
       "       [3508.171875  ],\n",
       "       [3532.25537109],\n",
       "       [3542.24194336],\n",
       "       [3530.91699219],\n",
       "       [3568.23608398],\n",
       "       [3572.63232422],\n",
       "       [3648.51293945],\n",
       "       [3712.54223633],\n",
       "       [3689.79736328],\n",
       "       [3638.66894531],\n",
       "       [3682.67797852],\n",
       "       [3707.85913086],\n",
       "       [3742.3112793 ],\n",
       "       [3688.79394531],\n",
       "       [3725.10961914],\n",
       "       [3792.24511719],\n",
       "       [3840.98461914],\n",
       "       [3813.70043945],\n",
       "       [3747.69091797],\n",
       "       [3663.34814453],\n",
       "       [3670.00195312],\n",
       "       [3610.50268555],\n",
       "       [3609.11450195],\n",
       "       [3493.60986328]])"
      ]
     },
     "execution_count": 16,
     "metadata": {},
     "output_type": "execute_result"
    }
   ],
   "source": [
    "actual_stock_price_test_ori=Ms.inverse_transform(aTestNormTable)\n",
    "actual_stock_price_test_ori"
   ]
  },
  {
   "cell_type": "code",
   "execution_count": 17,
   "id": "18a3020d-c697-4851-8587-807e4430f5b7",
   "metadata": {},
   "outputs": [
    {
     "data": {
      "text/html": [
       "<div>\n",
       "<style scoped>\n",
       "    .dataframe tbody tr th:only-of-type {\n",
       "        vertical-align: middle;\n",
       "    }\n",
       "\n",
       "    .dataframe tbody tr th {\n",
       "        vertical-align: top;\n",
       "    }\n",
       "\n",
       "    .dataframe thead th {\n",
       "        text-align: right;\n",
       "    }\n",
       "</style>\n",
       "<table border=\"1\" class=\"dataframe\">\n",
       "  <thead>\n",
       "    <tr style=\"text-align: right;\">\n",
       "      <th></th>\n",
       "      <th>Close</th>\n",
       "    </tr>\n",
       "  </thead>\n",
       "  <tbody>\n",
       "    <tr>\n",
       "      <th>0</th>\n",
       "      <td>3425.458496</td>\n",
       "    </tr>\n",
       "    <tr>\n",
       "      <th>1</th>\n",
       "      <td>3399.22583</td>\n",
       "    </tr>\n",
       "    <tr>\n",
       "      <th>2</th>\n",
       "      <td>3448.34668</td>\n",
       "    </tr>\n",
       "    <tr>\n",
       "      <th>3</th>\n",
       "      <td>3469.802246</td>\n",
       "    </tr>\n",
       "    <tr>\n",
       "      <th>4</th>\n",
       "      <td>3500.335693</td>\n",
       "    </tr>\n",
       "    <tr>\n",
       "      <th>5</th>\n",
       "      <td>3508.171875</td>\n",
       "    </tr>\n",
       "    <tr>\n",
       "      <th>6</th>\n",
       "      <td>3532.255371</td>\n",
       "    </tr>\n",
       "    <tr>\n",
       "      <th>7</th>\n",
       "      <td>3542.241943</td>\n",
       "    </tr>\n",
       "    <tr>\n",
       "      <th>8</th>\n",
       "      <td>3530.916992</td>\n",
       "    </tr>\n",
       "    <tr>\n",
       "      <th>9</th>\n",
       "      <td>3568.236084</td>\n",
       "    </tr>\n",
       "    <tr>\n",
       "      <th>10</th>\n",
       "      <td>3572.632324</td>\n",
       "    </tr>\n",
       "    <tr>\n",
       "      <th>11</th>\n",
       "      <td>3648.512939</td>\n",
       "    </tr>\n",
       "    <tr>\n",
       "      <th>12</th>\n",
       "      <td>3712.542236</td>\n",
       "    </tr>\n",
       "    <tr>\n",
       "      <th>13</th>\n",
       "      <td>3689.797363</td>\n",
       "    </tr>\n",
       "    <tr>\n",
       "      <th>14</th>\n",
       "      <td>3638.668945</td>\n",
       "    </tr>\n",
       "    <tr>\n",
       "      <th>15</th>\n",
       "      <td>3682.677979</td>\n",
       "    </tr>\n",
       "    <tr>\n",
       "      <th>16</th>\n",
       "      <td>3707.859131</td>\n",
       "    </tr>\n",
       "    <tr>\n",
       "      <th>17</th>\n",
       "      <td>3742.311279</td>\n",
       "    </tr>\n",
       "    <tr>\n",
       "      <th>18</th>\n",
       "      <td>3688.793945</td>\n",
       "    </tr>\n",
       "    <tr>\n",
       "      <th>19</th>\n",
       "      <td>3725.109619</td>\n",
       "    </tr>\n",
       "    <tr>\n",
       "      <th>20</th>\n",
       "      <td>3792.245117</td>\n",
       "    </tr>\n",
       "    <tr>\n",
       "      <th>21</th>\n",
       "      <td>3840.984619</td>\n",
       "    </tr>\n",
       "    <tr>\n",
       "      <th>22</th>\n",
       "      <td>3813.700439</td>\n",
       "    </tr>\n",
       "    <tr>\n",
       "      <th>23</th>\n",
       "      <td>3747.690918</td>\n",
       "    </tr>\n",
       "    <tr>\n",
       "      <th>24</th>\n",
       "      <td>3663.348145</td>\n",
       "    </tr>\n",
       "    <tr>\n",
       "      <th>25</th>\n",
       "      <td>3670.001953</td>\n",
       "    </tr>\n",
       "    <tr>\n",
       "      <th>26</th>\n",
       "      <td>3610.502686</td>\n",
       "    </tr>\n",
       "    <tr>\n",
       "      <th>27</th>\n",
       "      <td>3609.114502</td>\n",
       "    </tr>\n",
       "    <tr>\n",
       "      <th>28</th>\n",
       "      <td>3493.609863</td>\n",
       "    </tr>\n",
       "  </tbody>\n",
       "</table>\n",
       "</div>"
      ],
      "text/plain": [
       "          Close\n",
       "0   3425.458496\n",
       "1    3399.22583\n",
       "2    3448.34668\n",
       "3   3469.802246\n",
       "4   3500.335693\n",
       "5   3508.171875\n",
       "6   3532.255371\n",
       "7   3542.241943\n",
       "8   3530.916992\n",
       "9   3568.236084\n",
       "10  3572.632324\n",
       "11  3648.512939\n",
       "12  3712.542236\n",
       "13  3689.797363\n",
       "14  3638.668945\n",
       "15  3682.677979\n",
       "16  3707.859131\n",
       "17  3742.311279\n",
       "18  3688.793945\n",
       "19  3725.109619\n",
       "20  3792.245117\n",
       "21  3840.984619\n",
       "22  3813.700439\n",
       "23  3747.690918\n",
       "24  3663.348145\n",
       "25  3670.001953\n",
       "26  3610.502686\n",
       "27  3609.114502\n",
       "28  3493.609863"
      ]
     },
     "execution_count": 17,
     "metadata": {},
     "output_type": "execute_result"
    }
   ],
   "source": [
    "actual_stock_price_test_oriA=conversionSingle(actual_stock_price_test_ori,[column])\n",
    "actual_stock_price_test_oriA"
   ]
  },
  {
   "cell_type": "code",
   "execution_count": 18,
   "id": "e360c075-525a-4dfd-9246-6d43b5f682c6",
   "metadata": {},
   "outputs": [],
   "source": [
    "from stockFunctions import conversionSingle\n",
    "aTestNormTable=conversionSingle(y_test,[column])\n",
    "actual_stock_price_test_ori=Ms.inverse_transform(aTestNormTable)\n",
    "actual_stock_price_test_oriA=conversionSingle(actual_stock_price_test_ori,[column])"
   ]
  },
  {
   "cell_type": "code",
   "execution_count": 19,
   "id": "b3f50033-25b9-4074-b655-fed4f266fb24",
   "metadata": {},
   "outputs": [],
   "source": [
    "from stockFunctions import conversionSingle\n",
    "pTestNormTable=conversionSingle(y_pred,[column])\n",
    "predicted_stock_price_test_ori=Ms.inverse_transform(pTestNormTable)\n",
    "predicted_stock_price_test_oriP=conversionSingle(predicted_stock_price_test_ori,[column])"
   ]
  },
  {
   "cell_type": "code",
   "execution_count": 20,
   "id": "307e768b-ce07-439e-a697-c5d08b489c7a",
   "metadata": {},
   "outputs": [
    {
     "data": {
      "image/png": "[encoded data removed]",
      "text/plain": [
       "<Figure size 1000x500 with 1 Axes>"
      ]
     },
     "metadata": {},
     "output_type": "display_data"
    }
   ],
   "source": [
    "from stockFunctions import conversionSingle\n",
    "graph(actual_stock_price_test_oriA,predicted_stock_price_test_oriP,\"Actual\",\"Predicted\",\"TataCoffee-Close-AR-Ori\",\"Days\",\"Prices\")"
   ]
  },
  {
   "cell_type": "code",
   "execution_count": 21,
   "id": "037060cf-1eee-44f4-a20a-4e23e94e04b2",
   "metadata": {},
   "outputs": [
    {
     "name": "stdout",
     "output_type": "stream",
     "text": [
      "RMSE-Testset: 212.20904109572885\n",
      "maPe-Testset: 0.0493617100182494\n"
     ]
    }
   ],
   "source": [
    "from stockFunctions import rmsemape\n",
    "rmsemape(actual_stock_price_test_oriA,predicted_stock_price_test_oriP)"
   ]
  },
  {
   "cell_type": "code",
   "execution_count": 22,
   "id": "d3b53fff-5ccc-4e04-abd7-de60359d506e",
   "metadata": {},
   "outputs": [],
   "source": [
    "forecast=model_fit.predict(len(data1),len(data1)+5)"
   ]
  },
  {
   "cell_type": "code",
   "execution_count": 23,
   "id": "57bc55d2-e35d-4ab2-b91c-84f5bbe09ee9",
   "metadata": {},
   "outputs": [
    {
     "data": {
      "text/plain": [
       "array([0.52976059, 0.53105966, 0.53235321, 0.53365109, 0.53494557,\n",
       "       0.53624272])"
      ]
     },
     "execution_count": 23,
     "metadata": {},
     "output_type": "execute_result"
    }
   ],
   "source": [
    "forecast"
   ]
  },
  {
   "cell_type": "code",
   "execution_count": 24,
   "id": "f05135fe-673e-49c8-bbdc-678eb1db2048",
   "metadata": {},
   "outputs": [
    {
     "data": {
      "text/html": [
       "<div>\n",
       "<style scoped>\n",
       "    .dataframe tbody tr th:only-of-type {\n",
       "        vertical-align: middle;\n",
       "    }\n",
       "\n",
       "    .dataframe tbody tr th {\n",
       "        vertical-align: top;\n",
       "    }\n",
       "\n",
       "    .dataframe thead th {\n",
       "        text-align: right;\n",
       "    }\n",
       "</style>\n",
       "<table border=\"1\" class=\"dataframe\">\n",
       "  <thead>\n",
       "    <tr style=\"text-align: right;\">\n",
       "      <th></th>\n",
       "      <th>Closefore</th>\n",
       "    </tr>\n",
       "  </thead>\n",
       "  <tbody>\n",
       "    <tr>\n",
       "      <th>0</th>\n",
       "      <td>3455.509655</td>\n",
       "    </tr>\n",
       "    <tr>\n",
       "      <th>1</th>\n",
       "      <td>3456.574552</td>\n",
       "    </tr>\n",
       "    <tr>\n",
       "      <th>2</th>\n",
       "      <td>3457.634929</td>\n",
       "    </tr>\n",
       "    <tr>\n",
       "      <th>3</th>\n",
       "      <td>3458.698859</td>\n",
       "    </tr>\n",
       "    <tr>\n",
       "      <th>4</th>\n",
       "      <td>3459.759996</td>\n",
       "    </tr>\n",
       "    <tr>\n",
       "      <th>5</th>\n",
       "      <td>3460.823329</td>\n",
       "    </tr>\n",
       "  </tbody>\n",
       "</table>\n",
       "</div>"
      ],
      "text/plain": [
       "     Closefore\n",
       "0  3455.509655\n",
       "1  3456.574552\n",
       "2  3457.634929\n",
       "3  3458.698859\n",
       "4  3459.759996\n",
       "5  3460.823329"
      ]
     },
     "execution_count": 24,
     "metadata": {},
     "output_type": "execute_result"
    }
   ],
   "source": [
    "from stockFunctions import conversionSingle\n",
    "fTestNormTable=conversionSingle(forecast,['Closefore'])\n",
    "forecast_stock_price_ori=Ms.inverse_transform(fTestNormTable)\n",
    "forecast_stock_price_oriF=conversionSingle(forecast_stock_price_ori,['Closefore'])\n",
    "forecast_stock_price_oriF"
   ]
  },
  {
   "cell_type": "code",
   "execution_count": 25,
   "id": "58355528-6ad1-46ef-82b8-b21bf2722b29",
   "metadata": {},
   "outputs": [],
   "source": [
    "#forecast_stock_price_test_oriF.to_csv(\"CloseAR.csv\",index=False)"
   ]
  },
  {
   "cell_type": "code",
   "execution_count": null,
   "id": "8c9ca28e-d5a3-4d63-aa40-43060a9d889a",
   "metadata": {},
   "outputs": [],
   "source": []
  }
 ],
 "metadata": {
  "kernelspec": {
   "display_name": "Python 3 (ipykernel)",
   "language": "python",
   "name": "python3"
  },
  "language_info": {
   "codemirror_mode": {
    "name": "ipython",
    "version": 3
   },
   "file_extension": ".py",
   "mimetype": "text/x-python",
   "name": "python",
   "nbconvert_exporter": "python",
   "pygments_lexer": "ipython3",
   "version": "3.11.11"
  }
 },
 "nbformat": 4,
 "nbformat_minor": 5
}
