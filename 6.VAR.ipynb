{
 "cells": [
  {
   "cell_type": "code",
   "execution_count": 1,
   "id": "c76a7b62-4f0c-439c-9f44-d137feefb50f",
   "metadata": {},
   "outputs": [
    {
     "name": "stdout",
     "output_type": "stream",
     "text": [
      "YF.download() has changed argument auto_adjust default to True\n"
     ]
    },
    {
     "name": "stderr",
     "output_type": "stream",
     "text": [
      "[*********************100%***********************]  1 of 1 completed\n"
     ]
    },
    {
     "data": {
      "text/html": [
       "<div>\n",
       "<style scoped>\n",
       "    .dataframe tbody tr th:only-of-type {\n",
       "        vertical-align: middle;\n",
       "    }\n",
       "\n",
       "    .dataframe tbody tr th {\n",
       "        vertical-align: top;\n",
       "    }\n",
       "\n",
       "    .dataframe thead th {\n",
       "        text-align: right;\n",
       "    }\n",
       "</style>\n",
       "<table border=\"1\" class=\"dataframe\">\n",
       "  <thead>\n",
       "    <tr style=\"text-align: right;\">\n",
       "      <th></th>\n",
       "      <th>Close</th>\n",
       "      <th>High</th>\n",
       "      <th>Low</th>\n",
       "      <th>Open</th>\n",
       "    </tr>\n",
       "    <tr>\n",
       "      <th>Date</th>\n",
       "      <th></th>\n",
       "      <th></th>\n",
       "      <th></th>\n",
       "      <th></th>\n",
       "    </tr>\n",
       "  </thead>\n",
       "  <tbody>\n",
       "    <tr>\n",
       "      <th>2021-07-01</th>\n",
       "      <td>3117.359619</td>\n",
       "      <td>3136.484525</td>\n",
       "      <td>3108.823472</td>\n",
       "      <td>3132.752836</td>\n",
       "    </tr>\n",
       "    <tr>\n",
       "      <th>2021-07-02</th>\n",
       "      <td>3102.386230</td>\n",
       "      <td>3115.680372</td>\n",
       "      <td>3074.165333</td>\n",
       "      <td>3107.563994</td>\n",
       "    </tr>\n",
       "    <tr>\n",
       "      <th>2021-07-05</th>\n",
       "      <td>3098.234863</td>\n",
       "      <td>3147.679744</td>\n",
       "      <td>3080.509340</td>\n",
       "      <td>3117.826231</td>\n",
       "    </tr>\n",
       "    <tr>\n",
       "      <th>2021-07-06</th>\n",
       "      <td>3043.472168</td>\n",
       "      <td>3104.765112</td>\n",
       "      <td>3037.688096</td>\n",
       "      <td>3090.771278</td>\n",
       "    </tr>\n",
       "    <tr>\n",
       "      <th>2021-07-07</th>\n",
       "      <td>3055.273438</td>\n",
       "      <td>3062.503584</td>\n",
       "      <td>3024.160620</td>\n",
       "      <td>3055.320129</td>\n",
       "    </tr>\n",
       "    <tr>\n",
       "      <th>...</th>\n",
       "      <td>...</td>\n",
       "      <td>...</td>\n",
       "      <td>...</td>\n",
       "      <td>...</td>\n",
       "    </tr>\n",
       "    <tr>\n",
       "      <th>2022-01-20</th>\n",
       "      <td>3590.828125</td>\n",
       "      <td>3678.521402</td>\n",
       "      <td>3576.235985</td>\n",
       "      <td>3669.137419</td>\n",
       "    </tr>\n",
       "    <tr>\n",
       "      <th>2022-01-21</th>\n",
       "      <td>3597.349609</td>\n",
       "      <td>3614.287743</td>\n",
       "      <td>3538.793652</td>\n",
       "      <td>3572.482056</td>\n",
       "    </tr>\n",
       "    <tr>\n",
       "      <th>2022-01-24</th>\n",
       "      <td>3539.028076</td>\n",
       "      <td>3612.504471</td>\n",
       "      <td>3509.703133</td>\n",
       "      <td>3603.449020</td>\n",
       "    </tr>\n",
       "    <tr>\n",
       "      <th>2022-01-25</th>\n",
       "      <td>3537.667725</td>\n",
       "      <td>3574.734458</td>\n",
       "      <td>3492.906171</td>\n",
       "      <td>3537.292457</td>\n",
       "    </tr>\n",
       "    <tr>\n",
       "      <th>2022-01-27</th>\n",
       "      <td>3424.449707</td>\n",
       "      <td>3503.415826</td>\n",
       "      <td>3401.787482</td>\n",
       "      <td>3501.163762</td>\n",
       "    </tr>\n",
       "  </tbody>\n",
       "</table>\n",
       "<p>144 rows × 4 columns</p>\n",
       "</div>"
      ],
      "text/plain": [
       "                  Close         High          Low         Open\n",
       "Date                                                          \n",
       "2021-07-01  3117.359619  3136.484525  3108.823472  3132.752836\n",
       "2021-07-02  3102.386230  3115.680372  3074.165333  3107.563994\n",
       "2021-07-05  3098.234863  3147.679744  3080.509340  3117.826231\n",
       "2021-07-06  3043.472168  3104.765112  3037.688096  3090.771278\n",
       "2021-07-07  3055.273438  3062.503584  3024.160620  3055.320129\n",
       "...                 ...          ...          ...          ...\n",
       "2022-01-20  3590.828125  3678.521402  3576.235985  3669.137419\n",
       "2022-01-21  3597.349609  3614.287743  3538.793652  3572.482056\n",
       "2022-01-24  3539.028076  3612.504471  3509.703133  3603.449020\n",
       "2022-01-25  3537.667725  3574.734458  3492.906171  3537.292457\n",
       "2022-01-27  3424.449707  3503.415826  3401.787482  3501.163762\n",
       "\n",
       "[144 rows x 4 columns]"
      ]
     },
     "execution_count": 1,
     "metadata": {},
     "output_type": "execute_result"
    }
   ],
   "source": [
    "import yfinance as yf\n",
    "\n",
    "df= yf.download(\"TCS.NS\", start=\"2021-07-01\", end=\"2022-01-28\")\n",
    "import pandas as pd\n",
    "if isinstance(df.columns, pd.MultiIndex):\n",
    "    df.columns = df.columns.get_level_values(0)\n",
    "df.columns.name = None \n",
    "dataset=df.drop(columns=['Volume'])\n",
    "dataset"
   ]
  },
  {
   "cell_type": "code",
   "execution_count": 2,
   "id": "1b68d6df-0669-4222-b628-993804f88e94",
   "metadata": {},
   "outputs": [],
   "source": [
    "#column='Close'"
   ]
  },
  {
   "cell_type": "code",
   "execution_count": 3,
   "id": "4990c96d-8399-40ba-9413-43f0c02b65a5",
   "metadata": {},
   "outputs": [
    {
     "name": "stdout",
     "output_type": "stream",
     "text": [
      "Len: (144, 4)\n"
     ]
    }
   ],
   "source": [
    "from sklearn.preprocessing import MinMaxScaler\n",
    "Ms=MinMaxScaler()\n",
    "data1=Ms.fit_transform(dataset)\n",
    "print('Len:',data1.shape)"
   ]
  },
  {
   "cell_type": "code",
   "execution_count": 4,
   "id": "2cb044c6-37ab-4ec0-9e0a-87b78b1dcf08",
   "metadata": {},
   "outputs": [
    {
     "data": {
      "text/plain": [
       "144"
      ]
     },
     "execution_count": 4,
     "metadata": {},
     "output_type": "execute_result"
    }
   ],
   "source": [
    "len(data1)"
   ]
  },
  {
   "cell_type": "code",
   "execution_count": 5,
   "id": "50823fb7-6541-4303-b572-ad6db55513bc",
   "metadata": {},
   "outputs": [
    {
     "name": "stdout",
     "output_type": "stream",
     "text": [
      "122\n",
      "x_train length: (122, 4)\n",
      "x_test length: (22, 4)\n",
      "x_train length: (122, 4)\n",
      "x_test length: (22, 4)\n"
     ]
    }
   ],
   "source": [
    "training_size=round(len(data1)* 0.85)\n",
    "print(training_size)\n",
    "x_train=data1[:training_size]\n",
    "x_test=data1[training_size:]\n",
    "print(\"x_train length:\",x_train.shape)\n",
    "print(\"x_test length:\",x_test.shape)\n",
    "y_train=data1[:training_size]\n",
    "y_test=data1[training_size:]\n",
    "print(\"x_train length:\",y_train.shape)\n",
    "print(\"x_test length:\",y_test.shape)"
   ]
  },
  {
   "cell_type": "code",
   "execution_count": 6,
   "id": "12731113-6f63-499e-bde4-def08e36a2bd",
   "metadata": {},
   "outputs": [],
   "source": [
    "import warnings\n",
    "warnings.filterwarnings(\"ignore\")"
   ]
  },
  {
   "cell_type": "code",
   "execution_count": 7,
   "id": "45180a20-b640-482b-b2a8-d238f947f787",
   "metadata": {},
   "outputs": [],
   "source": [
    "data1=pd.DataFrame(data1,columns=[\"Open\",\"High\",\"Low\",\"Close\"])"
   ]
  },
  {
   "cell_type": "code",
   "execution_count": 39,
   "id": "1847ef00-65b8-432c-9233-d6f4a0bf3a28",
   "metadata": {},
   "outputs": [],
   "source": [
    "performance={\"Model\":[],\"RMSE\":[],\"MaPe\":[],\"Lag\":[],\"Test\":[]}"
   ]
  },
  {
   "cell_type": "code",
   "execution_count": 40,
   "id": "7dfcf78f-0e82-4b44-8ee6-a2fd609521d4",
   "metadata": {},
   "outputs": [],
   "source": [
    "def cominbation(dataset,listt):\n",
    "    print(listt)\n",
    "    datasetTwo=dataset[listt]\n",
    "    test_obs = 28\n",
    "    train =datasetTwo[:-test_obs]\n",
    "    test = datasetTwo[-test_obs:]\n",
    "    from statsmodels.tsa.api import VAR\n",
    "    for i in [1,2,3,4,5,6,7,8,9,10]:\n",
    "        model = VAR(train)\n",
    "        results = model.fit(i)\n",
    "        print('Order =', i)\n",
    "        print('AIC: ', results.aic)\n",
    "        print('BIC: ', results.bic)\n",
    "        print()\n",
    "    x = model.select_order(maxlags=12)\n",
    "    order=x.selected_orders[\"aic\"]\n",
    "    result = model.fit(order)\n",
    "    #result.summary()\n",
    "    lagged_Values = train.values[-order:]\n",
    "    pred = result.forecast(y=lagged_Values,steps=28) \n",
    "    preds=pd.DataFrame(pred,columns=listt)\n",
    "    preds.to_csv(\"varforecasted_{}.csv\".format(test_obs))\n",
    "    from sklearn.metrics import mean_squared_error\n",
    "    rmse= round(mean_squared_error(test,pred,squared=False))\n",
    "    from sklearn.metrics import mean_absolute_percentage_error\n",
    "    mape=mean_absolute_percentage_error(test,pred)\n",
    "    performance[\"Model\"].append(listt)\n",
    "    performance[\"RMSE\"].append(rmse)\n",
    "    performance[\"MaPe\"].append(mape)\n",
    "    performance[\"Lag\"].append(order)\n",
    "    performance[\"Test\"].append(test_obs)\n",
    "    perf=pd.DataFrame(performance)\n",
    "    return perf,result,pred"
   ]
  },
  {
   "cell_type": "code",
   "execution_count": 46,
   "id": "4b601321-7732-49f1-a076-cbf6fd29021e",
   "metadata": {},
   "outputs": [],
   "source": [
    "listt=[\"Close\",\"High\"]"
   ]
  },
  {
   "cell_type": "code",
   "execution_count": 47,
   "id": "2ee05207-8cbd-4105-b775-0b8d62fde511",
   "metadata": {},
   "outputs": [
    {
     "name": "stdout",
     "output_type": "stream",
     "text": [
      "['Close', 'High']\n",
      "Order = 1\n",
      "AIC:  -13.382310641471717\n",
      "BIC:  -13.239096791296243\n",
      "\n",
      "Order = 2\n",
      "AIC:  -13.376747404213688\n",
      "BIC:  -13.136729996459785\n",
      "\n",
      "Order = 3\n",
      "AIC:  -13.304814638384652\n",
      "BIC:  -12.966908182968963\n",
      "\n",
      "Order = 4\n",
      "AIC:  -13.244342625977417\n",
      "BIC:  -12.807441021662134\n",
      "\n",
      "Order = 5\n",
      "AIC:  -13.181502932016173\n",
      "BIC:  -12.644478928152466\n",
      "\n",
      "Order = 6\n",
      "AIC:  -13.112888766341905\n",
      "BIC:  -12.474593407154607\n",
      "\n",
      "Order = 7\n",
      "AIC:  -13.089189788353616\n",
      "BIC:  -12.348451839116237\n",
      "\n",
      "Order = 8\n",
      "AIC:  -13.040747763732965\n",
      "BIC:  -12.19637311815682\n",
      "\n",
      "Order = 9\n",
      "AIC:  -12.977385951780331\n",
      "BIC:  -12.028157019915355\n",
      "\n",
      "Order = 10\n",
      "AIC:  -12.900921430636217\n",
      "BIC:  -11.845596506554077\n",
      "\n"
     ]
    }
   ],
   "source": [
    "perf,result,pred=cominbation(data1,listt)"
   ]
  },
  {
   "cell_type": "code",
   "execution_count": 48,
   "id": "8cd067ef-fa6a-4cd8-8fe6-e560078e44b0",
   "metadata": {},
   "outputs": [
    {
     "data": {
      "text/html": [
       "<div>\n",
       "<style scoped>\n",
       "    .dataframe tbody tr th:only-of-type {\n",
       "        vertical-align: middle;\n",
       "    }\n",
       "\n",
       "    .dataframe tbody tr th {\n",
       "        vertical-align: top;\n",
       "    }\n",
       "\n",
       "    .dataframe thead th {\n",
       "        text-align: right;\n",
       "    }\n",
       "</style>\n",
       "<table border=\"1\" class=\"dataframe\">\n",
       "  <thead>\n",
       "    <tr style=\"text-align: right;\">\n",
       "      <th></th>\n",
       "      <th>Model</th>\n",
       "      <th>RMSE</th>\n",
       "      <th>MaPe</th>\n",
       "      <th>Lag</th>\n",
       "      <th>Test</th>\n",
       "    </tr>\n",
       "  </thead>\n",
       "  <tbody>\n",
       "    <tr>\n",
       "      <th>0</th>\n",
       "      <td>[Close, High, Open, Low]</td>\n",
       "      <td>0</td>\n",
       "      <td>0.287943</td>\n",
       "      <td>1</td>\n",
       "      <td>28</td>\n",
       "    </tr>\n",
       "    <tr>\n",
       "      <th>1</th>\n",
       "      <td>[Close, High, Open]</td>\n",
       "      <td>0</td>\n",
       "      <td>0.288736</td>\n",
       "      <td>1</td>\n",
       "      <td>28</td>\n",
       "    </tr>\n",
       "    <tr>\n",
       "      <th>2</th>\n",
       "      <td>[Close, High]</td>\n",
       "      <td>0</td>\n",
       "      <td>0.253608</td>\n",
       "      <td>2</td>\n",
       "      <td>28</td>\n",
       "    </tr>\n",
       "  </tbody>\n",
       "</table>\n",
       "</div>"
      ],
      "text/plain": [
       "                      Model  RMSE      MaPe  Lag  Test\n",
       "0  [Close, High, Open, Low]     0  0.287943    1    28\n",
       "1       [Close, High, Open]     0  0.288736    1    28\n",
       "2             [Close, High]     0  0.253608    2    28"
      ]
     },
     "execution_count": 48,
     "metadata": {},
     "output_type": "execute_result"
    }
   ],
   "source": [
    "perf"
   ]
  },
  {
   "cell_type": "code",
   "execution_count": null,
   "id": "1f1ce46a-5aa9-4625-84e0-1136d7e006b4",
   "metadata": {},
   "outputs": [],
   "source": []
  }
 ],
 "metadata": {
  "kernelspec": {
   "display_name": "Python 3 (ipykernel)",
   "language": "python",
   "name": "python3"
  },
  "language_info": {
   "codemirror_mode": {
    "name": "ipython",
    "version": 3
   },
   "file_extension": ".py",
   "mimetype": "text/x-python",
   "name": "python",
   "nbconvert_exporter": "python",
   "pygments_lexer": "ipython3",
   "version": "3.11.11"
  }
 },
 "nbformat": 4,
 "nbformat_minor": 5
}
