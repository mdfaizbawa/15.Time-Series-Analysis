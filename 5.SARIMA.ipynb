{
 "cells": [
  {
   "cell_type": "code",
   "execution_count": 1,
   "id": "c76a7b62-4f0c-439c-9f44-d137feefb50f",
   "metadata": {},
   "outputs": [
    {
     "name": "stdout",
     "output_type": "stream",
     "text": [
      "YF.download() has changed argument auto_adjust default to True\n"
     ]
    },
    {
     "name": "stderr",
     "output_type": "stream",
     "text": [
      "[*********************100%***********************]  1 of 1 completed\n"
     ]
    },
    {
     "data": {
      "text/html": [
       "<div>\n",
       "<style scoped>\n",
       "    .dataframe tbody tr th:only-of-type {\n",
       "        vertical-align: middle;\n",
       "    }\n",
       "\n",
       "    .dataframe tbody tr th {\n",
       "        vertical-align: top;\n",
       "    }\n",
       "\n",
       "    .dataframe thead th {\n",
       "        text-align: right;\n",
       "    }\n",
       "</style>\n",
       "<table border=\"1\" class=\"dataframe\">\n",
       "  <thead>\n",
       "    <tr style=\"text-align: right;\">\n",
       "      <th></th>\n",
       "      <th>Close</th>\n",
       "      <th>High</th>\n",
       "      <th>Low</th>\n",
       "      <th>Open</th>\n",
       "    </tr>\n",
       "    <tr>\n",
       "      <th>Date</th>\n",
       "      <th></th>\n",
       "      <th></th>\n",
       "      <th></th>\n",
       "      <th></th>\n",
       "    </tr>\n",
       "  </thead>\n",
       "  <tbody>\n",
       "    <tr>\n",
       "      <th>2021-07-01</th>\n",
       "      <td>3180.318604</td>\n",
       "      <td>3199.829761</td>\n",
       "      <td>3171.610058</td>\n",
       "      <td>3196.022706</td>\n",
       "    </tr>\n",
       "    <tr>\n",
       "      <th>2021-07-02</th>\n",
       "      <td>3165.042480</td>\n",
       "      <td>3178.605113</td>\n",
       "      <td>3136.251629</td>\n",
       "      <td>3170.324815</td>\n",
       "    </tr>\n",
       "    <tr>\n",
       "      <th>2021-07-05</th>\n",
       "      <td>3160.807373</td>\n",
       "      <td>3211.250851</td>\n",
       "      <td>3142.723862</td>\n",
       "      <td>3180.794412</td>\n",
       "    </tr>\n",
       "    <tr>\n",
       "      <th>2021-07-06</th>\n",
       "      <td>3104.938477</td>\n",
       "      <td>3167.469299</td>\n",
       "      <td>3099.037589</td>\n",
       "      <td>3153.192845</td>\n",
       "    </tr>\n",
       "    <tr>\n",
       "      <th>2021-07-07</th>\n",
       "      <td>3116.978271</td>\n",
       "      <td>3124.354440</td>\n",
       "      <td>3085.237094</td>\n",
       "      <td>3117.025906</td>\n",
       "    </tr>\n",
       "    <tr>\n",
       "      <th>...</th>\n",
       "      <td>...</td>\n",
       "      <td>...</td>\n",
       "      <td>...</td>\n",
       "      <td>...</td>\n",
       "    </tr>\n",
       "    <tr>\n",
       "      <th>2022-01-20</th>\n",
       "      <td>3663.347900</td>\n",
       "      <td>3752.812216</td>\n",
       "      <td>3648.461060</td>\n",
       "      <td>3743.238716</td>\n",
       "    </tr>\n",
       "    <tr>\n",
       "      <th>2022-01-21</th>\n",
       "      <td>3670.002197</td>\n",
       "      <td>3687.282416</td>\n",
       "      <td>3610.263635</td>\n",
       "      <td>3644.632416</td>\n",
       "    </tr>\n",
       "    <tr>\n",
       "      <th>2022-01-24</th>\n",
       "      <td>3610.502686</td>\n",
       "      <td>3685.463017</td>\n",
       "      <td>3580.585492</td>\n",
       "      <td>3676.224682</td>\n",
       "    </tr>\n",
       "    <tr>\n",
       "      <th>2022-01-25</th>\n",
       "      <td>3609.114746</td>\n",
       "      <td>3646.930082</td>\n",
       "      <td>3563.449184</td>\n",
       "      <td>3608.731899</td>\n",
       "    </tr>\n",
       "    <tr>\n",
       "      <th>2022-01-27</th>\n",
       "      <td>3493.610107</td>\n",
       "      <td>3574.171031</td>\n",
       "      <td>3470.490194</td>\n",
       "      <td>3571.873484</td>\n",
       "    </tr>\n",
       "  </tbody>\n",
       "</table>\n",
       "<p>144 rows × 4 columns</p>\n",
       "</div>"
      ],
      "text/plain": [
       "                  Close         High          Low         Open\n",
       "Date                                                          \n",
       "2021-07-01  3180.318604  3199.829761  3171.610058  3196.022706\n",
       "2021-07-02  3165.042480  3178.605113  3136.251629  3170.324815\n",
       "2021-07-05  3160.807373  3211.250851  3142.723862  3180.794412\n",
       "2021-07-06  3104.938477  3167.469299  3099.037589  3153.192845\n",
       "2021-07-07  3116.978271  3124.354440  3085.237094  3117.025906\n",
       "...                 ...          ...          ...          ...\n",
       "2022-01-20  3663.347900  3752.812216  3648.461060  3743.238716\n",
       "2022-01-21  3670.002197  3687.282416  3610.263635  3644.632416\n",
       "2022-01-24  3610.502686  3685.463017  3580.585492  3676.224682\n",
       "2022-01-25  3609.114746  3646.930082  3563.449184  3608.731899\n",
       "2022-01-27  3493.610107  3574.171031  3470.490194  3571.873484\n",
       "\n",
       "[144 rows x 4 columns]"
      ]
     },
     "execution_count": 1,
     "metadata": {},
     "output_type": "execute_result"
    }
   ],
   "source": [
    "import yfinance as yf\n",
    "\n",
    "df= yf.download(\"TCS.NS\", start=\"2021-07-01\", end=\"2022-01-28\")\n",
    "import pandas as pd\n",
    "if isinstance(df.columns, pd.MultiIndex):\n",
    "    df.columns = df.columns.get_level_values(0)\n",
    "df.columns.name = None \n",
    "dataset=df.drop(columns=['Volume'])\n",
    "dataset"
   ]
  },
  {
   "cell_type": "code",
   "execution_count": 2,
   "id": "1b68d6df-0669-4222-b628-993804f88e94",
   "metadata": {},
   "outputs": [],
   "source": [
    "column='Close'"
   ]
  },
  {
   "cell_type": "code",
   "execution_count": 3,
   "id": "4990c96d-8399-40ba-9413-43f0c02b65a5",
   "metadata": {},
   "outputs": [
    {
     "name": "stdout",
     "output_type": "stream",
     "text": [
      "Len: (144, 1)\n"
     ]
    }
   ],
   "source": [
    "from sklearn.preprocessing import MinMaxScaler\n",
    "Ms=MinMaxScaler()\n",
    "data1=Ms.fit_transform(dataset[[column]])\n",
    "print('Len:',data1.shape)"
   ]
  },
  {
   "cell_type": "code",
   "execution_count": 4,
   "id": "2cb044c6-37ab-4ec0-9e0a-87b78b1dcf08",
   "metadata": {},
   "outputs": [
    {
     "data": {
      "text/plain": [
       "144"
      ]
     },
     "execution_count": 4,
     "metadata": {},
     "output_type": "execute_result"
    }
   ],
   "source": [
    "len(data1)"
   ]
  },
  {
   "cell_type": "code",
   "execution_count": 5,
   "id": "50823fb7-6541-4303-b572-ad6db55513bc",
   "metadata": {},
   "outputs": [
    {
     "name": "stdout",
     "output_type": "stream",
     "text": [
      "122\n",
      "x_train length: (122, 1)\n",
      "x_test length: (22, 1)\n",
      "x_train length: (122, 1)\n",
      "x_test length: (22, 1)\n"
     ]
    }
   ],
   "source": [
    "training_size=round(len(data1)* 0.85)\n",
    "print(training_size)\n",
    "x_train=data1[:training_size]\n",
    "x_test=data1[training_size:]\n",
    "print(\"x_train length:\",x_train.shape)\n",
    "print(\"x_test length:\",x_test.shape)\n",
    "y_train=data1[:training_size]\n",
    "y_test=data1[training_size:]\n",
    "print(\"x_train length:\",y_train.shape)\n",
    "print(\"x_test length:\",y_test.shape)"
   ]
  },
  {
   "cell_type": "code",
   "execution_count": 6,
   "id": "12731113-6f63-499e-bde4-def08e36a2bd",
   "metadata": {},
   "outputs": [],
   "source": [
    "import warnings\n",
    "warnings.filterwarnings(\"ignore\")"
   ]
  },
  {
   "cell_type": "code",
   "execution_count": 7,
   "id": "c67d2530-75ac-4a0f-b4df-aa3ecd9f5b1e",
   "metadata": {},
   "outputs": [
    {
     "name": "stdout",
     "output_type": "stream",
     "text": [
      "Order=(0, 0, 0)\n",
      "RMSE-Testset: 0.7963457872976075\n",
      "maPe-Testset: 1.0\n",
      "*****************\n",
      "Order=(0, 0, 1)\n",
      "RMSE-Testset: 0.7874733468589264\n",
      "maPe-Testset: 0.9765646713211809\n",
      "*****************\n",
      "Order=(2, 0, 1)\n",
      "RMSE-Testset: 0.2380400366124767\n",
      "maPe-Testset: 0.2460795846478935\n",
      "*****************\n",
      "Order=(1, 1, 1)\n",
      "RMSE-Testset: 0.19853144126984687\n",
      "maPe-Testset: 0.20114841529215566\n",
      "*****************\n"
     ]
    }
   ],
   "source": [
    "from sklearn.metrics import mean_squared_error\n",
    "orders=[(0,0,0),(0,0,1),(2,0,1),(1,1,1)]\n",
    "from statsmodels.tsa.statespace.sarimax import SARIMAX\n",
    "for i in orders:\n",
    "    model=SARIMAX(x_train, order=i, seasonal_order=(0,0,0,12))\n",
    "    model_fit=model.fit()\n",
    "    #make prediction\n",
    "    y_pred=model_fit.predict(len(x_train), len(data1)-1)\n",
    "    from stockFunctions import rmsemape\n",
    "    print(\"Order={}\". format(i))\n",
    "    rmsemape(y_test, y_pred)\n",
    "    print('*****************')"
   ]
  },
  {
   "cell_type": "code",
   "execution_count": 8,
   "id": "18241175-0130-4918-9910-b229e4e322b5",
   "metadata": {},
   "outputs": [
    {
     "data": {
      "text/plain": [
       "22"
      ]
     },
     "execution_count": 8,
     "metadata": {},
     "output_type": "execute_result"
    }
   ],
   "source": [
    "len(y_pred)"
   ]
  },
  {
   "cell_type": "code",
   "execution_count": 9,
   "id": "454ab2d3-701d-466b-859f-9d8f12ac7323",
   "metadata": {},
   "outputs": [
    {
     "name": "stdout",
     "output_type": "stream",
     "text": [
      "Order=(1, 1, 1)\n",
      "RMSE-Testset: 0.19853144126984687\n",
      "maPe-Testset: 0.20114841529215566\n",
      "************\n"
     ]
    }
   ],
   "source": [
    "order=(1,1,1)\n",
    "model=SARIMAX(x_train, order=order, seasonal_order=(0,0,0,12))\n",
    "model_fit=model.fit()\n",
    "#make prediction\n",
    "y_pred=model_fit.predict(len(x_train), len(data1)-1)\n",
    "\n",
    "mse=mean_squared_error(y_test, y_pred, squared=False)\n",
    "from stockFunctions import rmsemape\n",
    "print(\"Order={}\".format(order))\n",
    "rmsemape(y_test,y_pred)\n",
    "print(\"************\")"
   ]
  },
  {
   "cell_type": "code",
   "execution_count": 10,
   "id": "4f65f5f7-6ffc-4c2b-80d3-704bce21d4d5",
   "metadata": {},
   "outputs": [
    {
     "data": {
      "image/png": "[encoded data removed]",
      "text/plain": [
       "<Figure size 1000x500 with 1 Axes>"
      ]
     },
     "metadata": {},
     "output_type": "display_data"
    }
   ],
   "source": [
    "from stockFunctions import graph\n",
    "graph(y_test,y_pred,\"Actual\",\"Predicted\",\"TataCoffee-Close-AR-Norm\",\"Days\",\"Prices\")"
   ]
  },
  {
   "cell_type": "code",
   "execution_count": 11,
   "id": "cdf46c8d-faf7-446c-abf2-49c3b31d1850",
   "metadata": {},
   "outputs": [
    {
     "data": {
      "text/plain": [
       "144"
      ]
     },
     "execution_count": 11,
     "metadata": {},
     "output_type": "execute_result"
    }
   ],
   "source": [
    "len(data1)"
   ]
  },
  {
   "cell_type": "code",
   "execution_count": 12,
   "id": "71a8d464-f803-4d32-bd73-85b239eb5444",
   "metadata": {},
   "outputs": [
    {
     "data": {
      "text/plain": [
       "array([[0.63556506],\n",
       "       [0.62175008],\n",
       "       [0.66727463],\n",
       "       [0.67263818],\n",
       "       [0.76520441],\n",
       "       [0.84331414],\n",
       "       [0.81556744],\n",
       "       [0.75319605],\n",
       "       [0.80688193],\n",
       "       [0.83760153],\n",
       "       [0.8796299 ],\n",
       "       [0.81434338],\n",
       "       [0.85864386],\n",
       "       [0.94054284],\n",
       "       [1.        ],\n",
       "       [0.96671582],\n",
       "       [0.88619131],\n",
       "       [0.78330183],\n",
       "       [0.79141938],\n",
       "       [0.71883612],\n",
       "       [0.71714298],\n",
       "       [0.57623923]])"
      ]
     },
     "execution_count": 12,
     "metadata": {},
     "output_type": "execute_result"
    }
   ],
   "source": [
    "y_test"
   ]
  },
  {
   "cell_type": "code",
   "execution_count": 13,
   "id": "b1612908-b172-4337-b497-c53cc28bfb5a",
   "metadata": {},
   "outputs": [],
   "source": [
    "from stockFunctions import conversionSingle\n",
    "aTestNormTable=conversionSingle(y_test,[column])"
   ]
  },
  {
   "cell_type": "code",
   "execution_count": 14,
   "id": "ea64385e-81b4-454a-a8b3-f1749c42a0f8",
   "metadata": {},
   "outputs": [
    {
     "data": {
      "text/html": [
       "<div>\n",
       "<style scoped>\n",
       "    .dataframe tbody tr th:only-of-type {\n",
       "        vertical-align: middle;\n",
       "    }\n",
       "\n",
       "    .dataframe tbody tr th {\n",
       "        vertical-align: top;\n",
       "    }\n",
       "\n",
       "    .dataframe thead th {\n",
       "        text-align: right;\n",
       "    }\n",
       "</style>\n",
       "<table border=\"1\" class=\"dataframe\">\n",
       "  <thead>\n",
       "    <tr style=\"text-align: right;\">\n",
       "      <th></th>\n",
       "      <th>Close</th>\n",
       "    </tr>\n",
       "  </thead>\n",
       "  <tbody>\n",
       "    <tr>\n",
       "      <th>0</th>\n",
       "      <td>0.635565</td>\n",
       "    </tr>\n",
       "    <tr>\n",
       "      <th>1</th>\n",
       "      <td>0.62175</td>\n",
       "    </tr>\n",
       "    <tr>\n",
       "      <th>2</th>\n",
       "      <td>0.667275</td>\n",
       "    </tr>\n",
       "    <tr>\n",
       "      <th>3</th>\n",
       "      <td>0.672638</td>\n",
       "    </tr>\n",
       "    <tr>\n",
       "      <th>4</th>\n",
       "      <td>0.765204</td>\n",
       "    </tr>\n",
       "    <tr>\n",
       "      <th>5</th>\n",
       "      <td>0.843314</td>\n",
       "    </tr>\n",
       "    <tr>\n",
       "      <th>6</th>\n",
       "      <td>0.815567</td>\n",
       "    </tr>\n",
       "    <tr>\n",
       "      <th>7</th>\n",
       "      <td>0.753196</td>\n",
       "    </tr>\n",
       "    <tr>\n",
       "      <th>8</th>\n",
       "      <td>0.806882</td>\n",
       "    </tr>\n",
       "    <tr>\n",
       "      <th>9</th>\n",
       "      <td>0.837602</td>\n",
       "    </tr>\n",
       "    <tr>\n",
       "      <th>10</th>\n",
       "      <td>0.87963</td>\n",
       "    </tr>\n",
       "    <tr>\n",
       "      <th>11</th>\n",
       "      <td>0.814343</td>\n",
       "    </tr>\n",
       "    <tr>\n",
       "      <th>12</th>\n",
       "      <td>0.858644</td>\n",
       "    </tr>\n",
       "    <tr>\n",
       "      <th>13</th>\n",
       "      <td>0.940543</td>\n",
       "    </tr>\n",
       "    <tr>\n",
       "      <th>14</th>\n",
       "      <td>1.0</td>\n",
       "    </tr>\n",
       "    <tr>\n",
       "      <th>15</th>\n",
       "      <td>0.966716</td>\n",
       "    </tr>\n",
       "    <tr>\n",
       "      <th>16</th>\n",
       "      <td>0.886191</td>\n",
       "    </tr>\n",
       "    <tr>\n",
       "      <th>17</th>\n",
       "      <td>0.783302</td>\n",
       "    </tr>\n",
       "    <tr>\n",
       "      <th>18</th>\n",
       "      <td>0.791419</td>\n",
       "    </tr>\n",
       "    <tr>\n",
       "      <th>19</th>\n",
       "      <td>0.718836</td>\n",
       "    </tr>\n",
       "    <tr>\n",
       "      <th>20</th>\n",
       "      <td>0.717143</td>\n",
       "    </tr>\n",
       "    <tr>\n",
       "      <th>21</th>\n",
       "      <td>0.576239</td>\n",
       "    </tr>\n",
       "  </tbody>\n",
       "</table>\n",
       "</div>"
      ],
      "text/plain": [
       "       Close\n",
       "0   0.635565\n",
       "1    0.62175\n",
       "2   0.667275\n",
       "3   0.672638\n",
       "4   0.765204\n",
       "5   0.843314\n",
       "6   0.815567\n",
       "7   0.753196\n",
       "8   0.806882\n",
       "9   0.837602\n",
       "10   0.87963\n",
       "11  0.814343\n",
       "12  0.858644\n",
       "13  0.940543\n",
       "14       1.0\n",
       "15  0.966716\n",
       "16  0.886191\n",
       "17  0.783302\n",
       "18  0.791419\n",
       "19  0.718836\n",
       "20  0.717143\n",
       "21  0.576239"
      ]
     },
     "execution_count": 14,
     "metadata": {},
     "output_type": "execute_result"
    }
   ],
   "source": [
    "aTestNormTable"
   ]
  },
  {
   "cell_type": "code",
   "execution_count": 15,
   "id": "1dc9536f-5e14-4775-bfc9-0f96b39d4915",
   "metadata": {},
   "outputs": [
    {
     "data": {
      "text/plain": [
       "array([[3542.24194336],\n",
       "       [3530.91723633],\n",
       "       [3568.2355957 ],\n",
       "       [3572.63232422],\n",
       "       [3648.51269531],\n",
       "       [3712.54248047],\n",
       "       [3689.79736328],\n",
       "       [3638.66894531],\n",
       "       [3682.67749023],\n",
       "       [3707.85961914],\n",
       "       [3742.31201172],\n",
       "       [3688.79394531],\n",
       "       [3725.10888672],\n",
       "       [3792.24487305],\n",
       "       [3840.984375  ],\n",
       "       [3813.69995117],\n",
       "       [3747.69067383],\n",
       "       [3663.34790039],\n",
       "       [3670.00219727],\n",
       "       [3610.50268555],\n",
       "       [3609.11474609],\n",
       "       [3493.61010742]])"
      ]
     },
     "execution_count": 15,
     "metadata": {},
     "output_type": "execute_result"
    }
   ],
   "source": [
    "actual_stock_price_test_ori=Ms.inverse_transform(aTestNormTable)\n",
    "actual_stock_price_test_ori"
   ]
  },
  {
   "cell_type": "code",
   "execution_count": 16,
   "id": "18a3020d-c697-4851-8587-807e4430f5b7",
   "metadata": {},
   "outputs": [
    {
     "data": {
      "text/html": [
       "<div>\n",
       "<style scoped>\n",
       "    .dataframe tbody tr th:only-of-type {\n",
       "        vertical-align: middle;\n",
       "    }\n",
       "\n",
       "    .dataframe tbody tr th {\n",
       "        vertical-align: top;\n",
       "    }\n",
       "\n",
       "    .dataframe thead th {\n",
       "        text-align: right;\n",
       "    }\n",
       "</style>\n",
       "<table border=\"1\" class=\"dataframe\">\n",
       "  <thead>\n",
       "    <tr style=\"text-align: right;\">\n",
       "      <th></th>\n",
       "      <th>Close</th>\n",
       "    </tr>\n",
       "  </thead>\n",
       "  <tbody>\n",
       "    <tr>\n",
       "      <th>0</th>\n",
       "      <td>3542.241943</td>\n",
       "    </tr>\n",
       "    <tr>\n",
       "      <th>1</th>\n",
       "      <td>3530.917236</td>\n",
       "    </tr>\n",
       "    <tr>\n",
       "      <th>2</th>\n",
       "      <td>3568.235596</td>\n",
       "    </tr>\n",
       "    <tr>\n",
       "      <th>3</th>\n",
       "      <td>3572.632324</td>\n",
       "    </tr>\n",
       "    <tr>\n",
       "      <th>4</th>\n",
       "      <td>3648.512695</td>\n",
       "    </tr>\n",
       "    <tr>\n",
       "      <th>5</th>\n",
       "      <td>3712.54248</td>\n",
       "    </tr>\n",
       "    <tr>\n",
       "      <th>6</th>\n",
       "      <td>3689.797363</td>\n",
       "    </tr>\n",
       "    <tr>\n",
       "      <th>7</th>\n",
       "      <td>3638.668945</td>\n",
       "    </tr>\n",
       "    <tr>\n",
       "      <th>8</th>\n",
       "      <td>3682.67749</td>\n",
       "    </tr>\n",
       "    <tr>\n",
       "      <th>9</th>\n",
       "      <td>3707.859619</td>\n",
       "    </tr>\n",
       "    <tr>\n",
       "      <th>10</th>\n",
       "      <td>3742.312012</td>\n",
       "    </tr>\n",
       "    <tr>\n",
       "      <th>11</th>\n",
       "      <td>3688.793945</td>\n",
       "    </tr>\n",
       "    <tr>\n",
       "      <th>12</th>\n",
       "      <td>3725.108887</td>\n",
       "    </tr>\n",
       "    <tr>\n",
       "      <th>13</th>\n",
       "      <td>3792.244873</td>\n",
       "    </tr>\n",
       "    <tr>\n",
       "      <th>14</th>\n",
       "      <td>3840.984375</td>\n",
       "    </tr>\n",
       "    <tr>\n",
       "      <th>15</th>\n",
       "      <td>3813.699951</td>\n",
       "    </tr>\n",
       "    <tr>\n",
       "      <th>16</th>\n",
       "      <td>3747.690674</td>\n",
       "    </tr>\n",
       "    <tr>\n",
       "      <th>17</th>\n",
       "      <td>3663.3479</td>\n",
       "    </tr>\n",
       "    <tr>\n",
       "      <th>18</th>\n",
       "      <td>3670.002197</td>\n",
       "    </tr>\n",
       "    <tr>\n",
       "      <th>19</th>\n",
       "      <td>3610.502686</td>\n",
       "    </tr>\n",
       "    <tr>\n",
       "      <th>20</th>\n",
       "      <td>3609.114746</td>\n",
       "    </tr>\n",
       "    <tr>\n",
       "      <th>21</th>\n",
       "      <td>3493.610107</td>\n",
       "    </tr>\n",
       "  </tbody>\n",
       "</table>\n",
       "</div>"
      ],
      "text/plain": [
       "          Close\n",
       "0   3542.241943\n",
       "1   3530.917236\n",
       "2   3568.235596\n",
       "3   3572.632324\n",
       "4   3648.512695\n",
       "5    3712.54248\n",
       "6   3689.797363\n",
       "7   3638.668945\n",
       "8    3682.67749\n",
       "9   3707.859619\n",
       "10  3742.312012\n",
       "11  3688.793945\n",
       "12  3725.108887\n",
       "13  3792.244873\n",
       "14  3840.984375\n",
       "15  3813.699951\n",
       "16  3747.690674\n",
       "17    3663.3479\n",
       "18  3670.002197\n",
       "19  3610.502686\n",
       "20  3609.114746\n",
       "21  3493.610107"
      ]
     },
     "execution_count": 16,
     "metadata": {},
     "output_type": "execute_result"
    }
   ],
   "source": [
    "actual_stock_price_test_oriA=conversionSingle(actual_stock_price_test_ori,[column])\n",
    "actual_stock_price_test_oriA"
   ]
  },
  {
   "cell_type": "code",
   "execution_count": 17,
   "id": "e360c075-525a-4dfd-9246-6d43b5f682c6",
   "metadata": {},
   "outputs": [],
   "source": [
    "from stockFunctions import conversionSingle\n",
    "aTestNormTable=conversionSingle(y_test,[column])\n",
    "actual_stock_price_test_ori=Ms.inverse_transform(aTestNormTable)\n",
    "actual_stock_price_test_oriA=conversionSingle(actual_stock_price_test_ori,[column])"
   ]
  },
  {
   "cell_type": "code",
   "execution_count": 18,
   "id": "b3f50033-25b9-4074-b655-fed4f266fb24",
   "metadata": {},
   "outputs": [],
   "source": [
    "from stockFunctions import conversionSingle\n",
    "pTestNormTable=conversionSingle(y_pred,[column])\n",
    "predicted_stock_price_test_ori=Ms.inverse_transform(pTestNormTable)\n",
    "predicted_stock_price_test_oriP=conversionSingle(predicted_stock_price_test_ori,[column])"
   ]
  },
  {
   "cell_type": "code",
   "execution_count": 19,
   "id": "307e768b-ce07-439e-a697-c5d08b489c7a",
   "metadata": {},
   "outputs": [
    {
     "data": {
      "image/png": "[encoded data removed]",
      "text/plain": [
       "<Figure size 1000x500 with 1 Axes>"
      ]
     },
     "metadata": {},
     "output_type": "display_data"
    }
   ],
   "source": [
    "from stockFunctions import conversionSingle\n",
    "graph(actual_stock_price_test_oriA,predicted_stock_price_test_oriP,\"Actual\",\"Predicted\",\"TataCoffee-Close-AR-Ori\",\"Days\",\"Prices\")"
   ]
  },
  {
   "cell_type": "code",
   "execution_count": 20,
   "id": "037060cf-1eee-44f4-a20a-4e23e94e04b2",
   "metadata": {},
   "outputs": [
    {
     "name": "stdout",
     "output_type": "stream",
     "text": [
      "RMSE-Testset: 162.74445254530184\n",
      "maPe-Testset: 0.03741184871010182\n"
     ]
    }
   ],
   "source": [
    "from stockFunctions import rmsemape\n",
    "rmsemape(actual_stock_price_test_oriA,predicted_stock_price_test_oriP)"
   ]
  },
  {
   "cell_type": "code",
   "execution_count": 21,
   "id": "d3b53fff-5ccc-4e04-abd7-de60359d506e",
   "metadata": {},
   "outputs": [],
   "source": [
    "forecast=model_fit.predict(len(data1),len(data1)+5)"
   ]
  },
  {
   "cell_type": "code",
   "execution_count": 22,
   "id": "57bc55d2-e35d-4ab2-b91c-84f5bbe09ee9",
   "metadata": {},
   "outputs": [
    {
     "data": {
      "text/plain": [
       "array([0.62338267, 0.62338267, 0.62338267, 0.62338267, 0.62338267,\n",
       "       0.62338267])"
      ]
     },
     "execution_count": 22,
     "metadata": {},
     "output_type": "execute_result"
    }
   ],
   "source": [
    "forecast"
   ]
  },
  {
   "cell_type": "code",
   "execution_count": 23,
   "id": "f05135fe-673e-49c8-bbdc-678eb1db2048",
   "metadata": {},
   "outputs": [
    {
     "data": {
      "text/html": [
       "<div>\n",
       "<style scoped>\n",
       "    .dataframe tbody tr th:only-of-type {\n",
       "        vertical-align: middle;\n",
       "    }\n",
       "\n",
       "    .dataframe tbody tr th {\n",
       "        vertical-align: top;\n",
       "    }\n",
       "\n",
       "    .dataframe thead th {\n",
       "        text-align: right;\n",
       "    }\n",
       "</style>\n",
       "<table border=\"1\" class=\"dataframe\">\n",
       "  <thead>\n",
       "    <tr style=\"text-align: right;\">\n",
       "      <th></th>\n",
       "      <th>Closefore</th>\n",
       "    </tr>\n",
       "  </thead>\n",
       "  <tbody>\n",
       "    <tr>\n",
       "      <th>0</th>\n",
       "      <td>3532.25554</td>\n",
       "    </tr>\n",
       "    <tr>\n",
       "      <th>1</th>\n",
       "      <td>3532.25554</td>\n",
       "    </tr>\n",
       "    <tr>\n",
       "      <th>2</th>\n",
       "      <td>3532.25554</td>\n",
       "    </tr>\n",
       "    <tr>\n",
       "      <th>3</th>\n",
       "      <td>3532.25554</td>\n",
       "    </tr>\n",
       "    <tr>\n",
       "      <th>4</th>\n",
       "      <td>3532.25554</td>\n",
       "    </tr>\n",
       "    <tr>\n",
       "      <th>5</th>\n",
       "      <td>3532.25554</td>\n",
       "    </tr>\n",
       "  </tbody>\n",
       "</table>\n",
       "</div>"
      ],
      "text/plain": [
       "    Closefore\n",
       "0  3532.25554\n",
       "1  3532.25554\n",
       "2  3532.25554\n",
       "3  3532.25554\n",
       "4  3532.25554\n",
       "5  3532.25554"
      ]
     },
     "execution_count": 23,
     "metadata": {},
     "output_type": "execute_result"
    }
   ],
   "source": [
    "from stockFunctions import conversionSingle\n",
    "fTestNormTable=conversionSingle(forecast,['Closefore'])\n",
    "forecast_stock_price_ori=Ms.inverse_transform(fTestNormTable)\n",
    "forecast_stock_price_oriF=conversionSingle(forecast_stock_price_ori,['Closefore'])\n",
    "forecast_stock_price_oriF"
   ]
  },
  {
   "cell_type": "code",
   "execution_count": 24,
   "id": "58355528-6ad1-46ef-82b8-b21bf2722b29",
   "metadata": {},
   "outputs": [],
   "source": [
    "#forecast_stock_price_test_oriF.to_csv(\"CloseAR.csv\",index=False)"
   ]
  },
  {
   "cell_type": "code",
   "execution_count": null,
   "id": "8c9ca28e-d5a3-4d63-aa40-43060a9d889a",
   "metadata": {},
   "outputs": [],
   "source": []
  }
 ],
 "metadata": {
  "kernelspec": {
   "display_name": "Python 3 (ipykernel)",
   "language": "python",
   "name": "python3"
  },
  "language_info": {
   "codemirror_mode": {
    "name": "ipython",
    "version": 3
   },
   "file_extension": ".py",
   "mimetype": "text/x-python",
   "name": "python",
   "nbconvert_exporter": "python",
   "pygments_lexer": "ipython3",
   "version": "3.11.11"
  }
 },
 "nbformat": 4,
 "nbformat_minor": 5
}
